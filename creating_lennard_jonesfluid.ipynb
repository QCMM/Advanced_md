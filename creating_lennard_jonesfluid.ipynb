{
 "cells": [
  {
   "cell_type": "markdown",
   "metadata": {},
   "source": [
    "# Creating an Lennard Jones fluid in OpenMM"
   ]
  },
  {
   "cell_type": "markdown",
   "metadata": {},
   "source": [
    "## Preliminaries\n",
    "\n",
    "First, we import OpenMM. It's recommended that you always import this way:"
   ]
  },
  {
   "cell_type": "code",
   "execution_count": 2,
   "metadata": {
    "collapsed": true
   },
   "outputs": [],
   "source": [
    "from simtk import openmm, unit\n",
    "from simtk.openmm import app\n",
    "import numpy as np"
   ]
  },
  {
   "cell_type": "markdown",
   "metadata": {},
   "source": [
    "\n",
    "## The OpenMM `System` object\n",
    "\n",
    "The OpenMM [`System`](http://docs.openmm.org/7.1.0/api-python/library.html#system) object is a container that completely specifies how to compute the forces and energies for all particles in the molecular system. \n",
    "\n",
    "Because it is part of the C++ OpenMM API, `System` (and the related `Force` classes) are not true Python objects but instead SWIG-wrapped C++ objects, so you will find their naming and accessor conventions conform to C++ (rather than Pythonic) standards.\n",
    "\n",
    "There are many ways to create or import OpenMM `System` objects:\n",
    "* We can assemble all the particles and define their interactions ourselves programmatically using the OpenMM C++ API\n",
    "* We could load in a serialized version of the `System` object via the built-in XML serializer\n",
    "* We can use the various importers in the [`simtk.openmm.app`](http://docs.openmm.org/7.1.0/api-python/app.html) layer to read in a system definition in AMBER, CHARMM, or gromacs format\n",
    "* We can create our own `System` object from a PDB file using the OpenMM [`ForceField`](http://docs.openmm.org/7.1.0/userguide/application.html#force-fields) facility\n",
    "* We can use a large variety of pre-built test systems provided by the [`openmmtools.testsystems`](http://openmmtools.readthedocs.io) module for testing code on a battery of different system types with different kinds of forces\n",
    "\n",
    "Remember that if you want more information on `openmm.System`, you can use `help(openmm.System)`:"
   ]
  },
  {
   "cell_type": "markdown",
   "metadata": {},
   "source": [
    "## Creating a periodic Lennard-Jones system\n",
    "\n",
    "We'll start by building a simple periodic Lennard-Jones system using the Python wrappers for the main OpenMM C++ API."
   ]
  },
  {
   "cell_type": "code",
   "execution_count": 3,
   "metadata": {
    "collapsed": true
   },
   "outputs": [],
   "source": [
    "# Define the parameters of the Lennard-Jones periodic system\n",
    "nparticles = 512\n",
    "reduced_density = 0.05\n",
    "mass = 39.9 * unit.amu\n",
    "charge = 0.0 * unit.elementary_charge\n",
    "sigma = 3.4 * unit.angstroms\n",
    "epsilon = 0.238 * unit.kilocalories_per_mole\n",
    "\n",
    "# Create a system and add particles to it\n",
    "system = openmm.System()\n",
    "for index in range(nparticles):\n",
    "    # Particles are added one at a time\n",
    "    # Their indices in the System will correspond with their indices in the Force objects we will add later\n",
    "    system.addParticle(mass)\n",
    "    \n",
    "# Set the periodic box vectors\n",
    "number_density = reduced_density / sigma**3\n",
    "volume = nparticles * (number_density ** -1)\n",
    "box_edge = volume ** (1. / 3.)\n",
    "box_vectors = np.diag([box_edge/unit.angstrom for i in range(3)]) * unit.angstroms\n",
    "system.setDefaultPeriodicBoxVectors(*box_vectors)\n",
    "\n",
    "# Add Lennard-Jones interactions using a NonbondedForce\n",
    "force = openmm.NonbondedForce()\n",
    "force.setNonbondedMethod(openmm.NonbondedForce.CutoffPeriodic)\n",
    "for index in range(nparticles): # all particles must have parameters assigned for the NonbondedForce\n",
    "    # Particles are assigned properties in the same order as they appear in the System object\n",
    "    force.addParticle(charge, sigma, epsilon)\n",
    "force.setCutoffDistance(3.0 * sigma) # set cutoff (truncation) distance at 3*sigma\n",
    "force.setUseSwitchingFunction(True) # use a smooth switching function to avoid force discontinuities at cutoff\n",
    "force.setSwitchingDistance(2.5 * sigma) # turn on switch at 2.5*sigma\n",
    "force.setUseDispersionCorrection(True) # use long-range isotropic dispersion correction\n",
    "force_index = system.addForce(force) # system takes ownership of the NonbondedForce object"
   ]
  },
  {
   "cell_type": "markdown",
   "metadata": {},
   "source": [
    "### The OpenMM Python API uses units throughout\n",
    "\n",
    "Note the use of unit-bearing quantities via [`simtk.unit`](http://docs.openmm.org/7.1.0/userguide/library.html#units-and-dimensional-analysis). OpenMM's Python API uses a powerful units system that prevents many common kinds of mistakes with unit conversion, such as those that caused the loss of the [Mars Polar Lander](http://www.cnn.com/TECH/space/9909/30/mars.metric.02/). We'll examine the units system in more detail later---for now, we simply recognize that best practices dictate we feed OpenMM unit-bearing quantities (though this is not strictly necessary), and that it will return unit-bearing quantities."
   ]
  },
  {
   "cell_type": "code",
   "execution_count": 4,
   "metadata": {},
   "outputs": [
    {
     "name": "stdout",
     "output_type": "stream",
     "text": [
      "1.53 nm\n"
     ]
    },
    {
     "data": {
      "text/plain": [
       "'Quantity(value=1.53, unit=nanometer)'"
      ]
     },
     "execution_count": 4,
     "metadata": {},
     "output_type": "execute_result"
    }
   ],
   "source": [
    "# construct a Quantity using the multiply operator\n",
    "bond_length = 1.53 * unit.nanometer\n",
    "# equivalently using the explicit Quantity constructor\n",
    "bond_length = unit.Quantity(1.53, unit.nanometer)\n",
    "# or more verbosely\n",
    "bond_length = unit.Quantity(value=1.53, unit=unit.nanometer)\n",
    "# print a unit in human-readable form\n",
    "print(bond_length)\n",
    "# or display it in machine-readable form\n",
    "repr(bond_length)"
   ]
  },
  {
   "cell_type": "markdown",
   "metadata": {},
   "source": [
    "## Accesssors for System attributes and Forces\n",
    "\n",
    "The [`System`](http://docs.openmm.org/7.1.0/api-python/generated/simtk.openmm.openmm.System.html#simtk.openmm.openmm.System) object has a number of useful accessors for examining the contents of the system and "
   ]
  },
  {
   "cell_type": "code",
   "execution_count": 5,
   "metadata": {},
   "outputs": [
    {
     "name": "stdout",
     "output_type": "stream",
     "text": [
      "The system has 512 particles\n",
      "Particle     0 has mass       39.900 amu\n",
      "Particle     1 has mass       39.900 amu\n",
      "Particle     2 has mass       39.900 amu\n",
      "Particle     3 has mass       39.900 amu\n",
      "Particle     4 has mass       39.900 amu\n",
      "The system has 0 constraints\n",
      "There are 1 forces\n",
      "Force     0 : NonbondedForce\n"
     ]
    }
   ],
   "source": [
    "# Get the number of particles in the System\n",
    "print('The system has %d particles' % system.getNumParticles())\n",
    "# Print a few particle masses\n",
    "for index in range(5):\n",
    "    print('Particle %5d has mass %12.3f amu' % (index, system.getParticleMass(index) / unit.amu))\n",
    "# Print number of constraints\n",
    "print('The system has %d constraints' % system.getNumConstraints())\n",
    "# Get the number of forces and iterate through them\n",
    "print('There are %d forces' % system.getNumForces())\n",
    "for (index, force) in enumerate(system.getForces()):\n",
    "    print('Force %5d : %s' % (index, force.__class__.__name__))"
   ]
  },
  {
   "cell_type": "markdown",
   "metadata": {},
   "source": [
    "### Define positions for the Lennard-Jones particles\n",
    "\n",
    "To compute energies or forces, we will need to define some positions for the system before we can compute energies or forces.\n",
    "We'll generate some randomly, but as we will see later, there are many more ways to load molecular positions."
   ]
  },
  {
   "cell_type": "code",
   "execution_count": 6,
   "metadata": {},
   "outputs": [
    {
     "name": "stdout",
     "output_type": "stream",
     "text": [
      "[[ 10.02668162  39.3175152   56.80219223]\n",
      " [  3.88575932  38.36109416  22.11328491]\n",
      " [ 58.63268614  40.30017222  55.50949334]\n",
      " ..., \n",
      " [  3.22883112  23.76743759   9.14358205]\n",
      " [ 43.61167517  54.66140001  34.06724003]\n",
      " [ 58.69035833  65.81574166  11.156523  ]] A\n"
     ]
    }
   ],
   "source": [
    "positions = box_edge * np.random.rand(nparticles,3) \n",
    "print(positions)"
   ]
  },
  {
   "cell_type": "markdown",
   "metadata": {},
   "source": [
    "## Computing energies and forces\n",
    "\n",
    "To compute energies and forces efficiently, OpenMM requires you create a [`Context`](http://docs.openmm.org/7.1.0/api-python/generated/simtk.openmm.openmm.Context.html#simtk.openmm.openmm.Context) that handles the computation on a particular piece of hardware. This could be a GPU or CPU using a specific set of fast computation kernels.\n",
    "\n",
    "OpenMM forces us to explicitly move data (positions, velocities, forces) into and out of the `Context` through specific calls so that we remember that each of these operations carries overhead of moving data across the bus to the GPU, for example. To achieve maximum speed, OpenMM can perform a number of operations---such as integrating many molecular dynamics steps---fully on the GPU without slowing things down by moving data back and forth over the bus. We'll see examples of this soon.\n",
    "\n",
    "First, we just want to compute energies and forces and then minimize the energy of our system. To do that, we first need to create an [`Integrator`](http://docs.openmm.org/7.1.0/userguide/application.html#integrators) that will be bound to the [`Context`](http://docs.openmm.org/7.1.0/api-python/generated/simtk.openmm.openmm.Context.html#simtk.openmm.openmm.Context):"
   ]
  },
  {
   "cell_type": "code",
   "execution_count": 7,
   "metadata": {
    "collapsed": true
   },
   "outputs": [],
   "source": [
    "# Create an integrator\n",
    "timestep = 1.0 * unit.femtoseconds\n",
    "integrator = openmm.VerletIntegrator(timestep)\n",
    "# Create a Context using the default platform (the fastest abailable one is picked automatically)\n",
    "# NOTE: The integrator is bound irrevocably to the context, so we can't reuse it\n",
    "context = openmm.Context(system, integrator)"
   ]
  },
  {
   "cell_type": "markdown",
   "metadata": {},
   "source": [
    "The `System` object can be used by multiple `Contexts` because the `System` is copied and converted to the efficient `Platform` specific kernels inside the `Context` object. Changing parameters or adding new `Force`'s on the Python `System` itself will not update the representation inside the `Context`."
   ]
  },
  {
   "cell_type": "code",
   "execution_count": 8,
   "metadata": {},
   "outputs": [
    {
     "name": "stdout",
     "output_type": "stream",
     "text": [
      "[Quantity(value=(14.766431834276288, 0.0, 0.0), unit=nanometer), Quantity(value=(0.0, 14.766431834276288, 0.0), unit=nanometer), Quantity(value=(0.0, 0.0, 14.766431834276288), unit=nanometer)]\n",
      "[Quantity(value=(7.383215917138144, 0.0, 0.0), unit=nanometer), Quantity(value=(0.0, 7.383215917138144, 0.0), unit=nanometer), Quantity(value=(0.0, 0.0, 7.383215917138144), unit=nanometer)]\n"
     ]
    }
   ],
   "source": [
    "from copy import deepcopy\n",
    "# Create a new integrator we can throw away\n",
    "throwaway_integrator = openmm.VerletIntegrator(timestep)\n",
    "# Copy the System object for this example\n",
    "copy_system = deepcopy(system)\n",
    "throwaway_context = openmm.Context(copy_system, throwaway_integrator)\n",
    "# Change something in the Python System, e.g. double the box size\n",
    "copy_system.setDefaultPeriodicBoxVectors(*box_vectors*2)\n",
    "# Observe how the box size in the Context and Python System are different\n",
    "print([vector for i, vector in enumerate(copy_system.getDefaultPeriodicBoxVectors())])\n",
    "print([vector for i, vector in enumerate(throwaway_context.getState().getPeriodicBoxVectors())])\n",
    "# Cleanup\n",
    "del throwaway_integrator, throwaway_context"
   ]
  },
  {
   "cell_type": "markdown",
   "metadata": {},
   "source": [
    "There are ways to update paramters in an existing `Context`, but that topic will be covered in later tutorials.\n",
    "\n",
    "Once we have a [`Context`](http://docs.openmm.org/7.1.0/api-python/generated/simtk.openmm.openmm.Context.html#simtk.openmm.openmm.Context), we need to tell OpenMM we want to retrieve the energy and forces for a specific set of particle positions. This is done by retrieving a [`State`](http://docs.openmm.org/7.1.0/api-python/generated/simtk.openmm.openmm.State.html#simtk.openmm.openmm.State) object from the [`Context`](http://docs.openmm.org/7.1.0/api-python/generated/simtk.openmm.openmm.Context.html#simtk.openmm.openmm.Context) that contains *only* the information we want to retrieve so as to minimize the amount of data that needs to be sent over the bus from a GPU:"
   ]
  },
  {
   "cell_type": "code",
   "execution_count": 9,
   "metadata": {},
   "outputs": [
    {
     "name": "stdout",
     "output_type": "stream",
     "text": [
      "Potential energy: 25481395.44935387 kJ/mol\n",
      "Forces: [(0.0855492502450943, 0.27713125944137573, -0.03837815672159195), (-0.06485646218061447, -0.0715872049331665, -0.033643413335084915), (-0.11481528729200363, 0.07818984985351562, -0.051977600902318954), (0.2687129080295563, 0.5225710272789001, -0.8533488512039185), (-0.23557403683662415, 0.45656919479370117, -0.33631595969200134)] kJ/(nm mol)\n"
     ]
    }
   ],
   "source": [
    "# Set the positions\n",
    "context.setPositions(positions)\n",
    "# Retrieve the energy and forces\n",
    "state = context.getState(getEnergy=True, getForces=True)\n",
    "potential_energy = state.getPotentialEnergy()\n",
    "print('Potential energy: %s' % potential_energy)\n",
    "forces = state.getForces()\n",
    "print('Forces: %s' % forces[0:5])"
   ]
  },
  {
   "cell_type": "markdown",
   "metadata": {},
   "source": [
    "Note that the forces are returned as a `list` of tuples with units attached. If we want a numpy array instead, we could convert it, but it's much easier just use the `asNumpy=True` argument to [`state.getForces`](http://docs.openmm.org/7.1.0/api-python/generated/simtk.openmm.openmm.State.html#simtk.openmm.openmm.State.getForces)"
   ]
  },
  {
   "cell_type": "code",
   "execution_count": 10,
   "metadata": {},
   "outputs": [
    {
     "name": "stdout",
     "output_type": "stream",
     "text": [
      "Forces: [[  8.55492502e-02   2.77131259e-01  -3.83781567e-02]\n",
      " [ -6.48564622e-02  -7.15872049e-02  -3.36434133e-02]\n",
      " [ -1.14815287e-01   7.81898499e-02  -5.19776009e-02]\n",
      " ..., \n",
      " [  1.05605495e+00  -2.54847836e+00  -1.71441197e+00]\n",
      " [  3.29639763e-01   9.51404274e-02   4.19779569e-02]\n",
      " [ -9.03373489e+01  -2.44110718e+02   2.29076157e+02]] kJ/(nm mol)\n"
     ]
    }
   ],
   "source": [
    "# Get forces as numpy array\n",
    "forces = state.getForces(asNumpy=True)\n",
    "print('Forces: %s' % forces)"
   ]
  },
  {
   "cell_type": "markdown",
   "metadata": {},
   "source": [
    "## Minimizing the potential energy\n",
    "\n",
    "You'll notice the energy and force magnitude is pretty large:"
   ]
  },
  {
   "cell_type": "code",
   "execution_count": 11,
   "metadata": {},
   "outputs": [
    {
     "name": "stdout",
     "output_type": "stream",
     "text": [
      "Potential energy: 25481395.44935387 kJ/mol\n",
      "Force magnitude: 2601951202.859449 kJ/(nm mol)\n"
     ]
    }
   ],
   "source": [
    "# Compute the energy\n",
    "state = context.getState(getEnergy=True, getForces=True)\n",
    "potential_energy = state.getPotentialEnergy()\n",
    "print('Potential energy: %s' % potential_energy)\n",
    "# Compute the force magnitude\n",
    "forces = state.getForces(asNumpy=True)\n",
    "force_magnitude = (forces**2).sum().sqrt()\n",
    "print('Force magnitude: %s' % force_magnitude)"
   ]
  },
  {
   "cell_type": "markdown",
   "metadata": {},
   "source": [
    "If we tried to do dynamics at this point, the system will likely explode!\n",
    "\n",
    "OpenMM provides a [`LocalEnergyMinimizer`](http://docs.openmm.org/7.1.0/api-python/generated/simtk.openmm.openmm.LocalEnergyMinimizer.html#simtk.openmm.openmm.LocalEnergyMinimizer) that can be used to bring the force magnitude to be low enough to be able to run a simulation that won't explode."
   ]
  },
  {
   "cell_type": "code",
   "execution_count": 12,
   "metadata": {},
   "outputs": [
    {
     "name": "stdout",
     "output_type": "stream",
     "text": [
      "Potential energy: -187.03488039219292 kJ/mol\n",
      "Force magnitude: 131.17563166519946 kJ/(nm mol)\n"
     ]
    }
   ],
   "source": [
    "# Minimize the potential energy\n",
    "openmm.LocalEnergyMinimizer.minimize(context)\n",
    "\n",
    "# Compute the energy and force magnitude after minimization\n",
    "state = context.getState(getEnergy=True, getForces=True)\n",
    "potential_energy = state.getPotentialEnergy()\n",
    "print('Potential energy: %s' % potential_energy)\n",
    "forces = state.getForces(asNumpy=True)\n",
    "force_magnitude = (forces**2).sum().sqrt()\n",
    "print('Force magnitude: %s' % force_magnitude)"
   ]
  },
  {
   "cell_type": "markdown",
   "metadata": {
    "collapsed": true
   },
   "source": [
    "Now we want to visualize the system."
   ]
  },
  {
   "cell_type": "code",
   "execution_count": 13,
   "metadata": {},
   "outputs": [
    {
     "name": "stderr",
     "output_type": "stream",
     "text": [
      "WARNING:root:DEPRECATED: Please use 'center' method\n"
     ]
    },
    {
     "data": {
      "application/vnd.jupyter.widget-view+json": {
       "model_id": "eb06d350c68547dcab4374c60e197bf7",
       "version_major": 2,
       "version_minor": 0
      },
      "text/html": [
       "<p>Failed to display Jupyter Widget of type <code>NGLWidget</code>.</p>\n",
       "<p>\n",
       "  If you're reading this message in the Jupyter Notebook or JupyterLab Notebook, it may mean\n",
       "  that the widgets JavaScript is still loading. If this message persists, it\n",
       "  likely means that the widgets JavaScript library is either not installed or\n",
       "  not enabled. See the <a href=\"https://ipywidgets.readthedocs.io/en/stable/user_install.html\">Jupyter\n",
       "  Widgets Documentation</a> for setup instructions.\n",
       "</p>\n",
       "<p>\n",
       "  If you're reading this message in another frontend (for example, a static\n",
       "  rendering on GitHub or <a href=\"https://nbviewer.jupyter.org/\">NBViewer</a>),\n",
       "  it may mean that your frontend doesn't currently support widgets.\n",
       "</p>\n"
      ],
      "text/plain": [
       "NGLWidget()"
      ]
     },
     "metadata": {},
     "output_type": "display_data"
    }
   ],
   "source": [
    "from openmmtools import testsystems\n",
    "t = testsystems.LennardJonesFluid(reduced_density=0.02)\n",
    "def visualize(t):\n",
    "    import mdtraj\n",
    "    mdtraj_topology = mdtraj.Topology.from_openmm(t.topology)\n",
    "    traj = mdtraj.Trajectory([t.positions/unit.nanometers], mdtraj_topology)\n",
    "\n",
    "    # View it in nglview\n",
    "    import nglview\n",
    "    view = nglview.show_mdtraj(traj)\n",
    "    if t.system.getNumParticles() < 2000:\n",
    "        view.add_representation('spacefill','all')\n",
    "    view.center_view()\n",
    "    return view\n",
    "\n",
    "visualize(t)"
   ]
  },
  {
   "cell_type": "code",
   "execution_count": null,
   "metadata": {
    "collapsed": true
   },
   "outputs": [],
   "source": []
  }
 ],
 "metadata": {
  "kernelspec": {
   "display_name": "Python 3",
   "language": "python",
   "name": "python3"
  },
  "language_info": {
   "codemirror_mode": {
    "name": "ipython",
    "version": 3
   },
   "file_extension": ".py",
   "mimetype": "text/x-python",
   "name": "python",
   "nbconvert_exporter": "python",
   "pygments_lexer": "ipython3",
   "version": "3.6.7"
  },
  "widgets": {
   "application/vnd.jupyter.widget-state+json": {
    "state": {
     "00a80b0fa531413cafdb96f6024bcb9a": {
      "model_module": "jupyter-js-widgets",
      "model_module_version": "~2.1.4",
      "model_name": "ImageModel",
      "state": {
       "_model_module_version": "~2.1.4",
       "_view_module_version": "~2.1.4",
       "layout": "IPY_MODEL_e4874c9fcce5457ebe368f716486e496",
       "width": "900.0"
      }
     },
     "010cf2d56d23430894355065c6fff727": {
      "model_module": "jupyter-js-widgets",
      "model_module_version": "~2.1.4",
      "model_name": "ImageModel",
      "state": {
       "_model_module_version": "~2.1.4",
       "_view_module_version": "~2.1.4",
       "layout": "IPY_MODEL_380050d3192e4f4b99e2b861c066b3d5",
       "width": "900.0"
      }
     },
     "0388565b6dfc4452bc9ff64d7c82da1f": {
      "model_module": "jupyter-js-widgets",
      "model_module_version": "~2.1.4",
      "model_name": "ImageModel",
      "state": {
       "_model_module_version": "~2.1.4",
       "_view_module_version": "~2.1.4",
       "layout": "IPY_MODEL_f6afd199ec3c456398ca5cd35da333e1",
       "width": "900.0"
      }
     },
     "05086198de0840d3ac98c2bd89f7260b": {
      "model_module": "jupyter-js-widgets",
      "model_module_version": "~2.1.4",
      "model_name": "ImageModel",
      "state": {
       "_model_module_version": "~2.1.4",
       "_view_module_version": "~2.1.4",
       "layout": "IPY_MODEL_c7364480a1644d58a2bebc38a1e0fb4c",
       "width": "900.0"
      }
     },
     "063f9430d8424354b09818d5c5f61c75": {
      "model_module": "jupyter-js-widgets",
      "model_module_version": "~2.1.4",
      "model_name": "LayoutModel",
      "state": {
       "_model_module_version": "~2.1.4",
       "_view_module_version": "~2.1.4"
      }
     },
     "06c06380f7cb43068ffe173cc67b054e": {
      "model_module": "jupyter-js-widgets",
      "model_module_version": "~2.1.4",
      "model_name": "LayoutModel",
      "state": {
       "_model_module_version": "~2.1.4",
       "_view_module_version": "~2.1.4"
      }
     },
     "146c18a2608e4971a1c8aab11498e012": {
      "model_module": "jupyter-js-widgets",
      "model_module_version": "~2.1.4",
      "model_name": "LayoutModel",
      "state": {
       "_model_module_version": "~2.1.4",
       "_view_module_version": "~2.1.4"
      }
     },
     "160698ef9d664b8580b9524b40c18121": {
      "model_module": "jupyter-js-widgets",
      "model_module_version": "~2.1.4",
      "model_name": "LayoutModel",
      "state": {
       "_model_module_version": "~2.1.4",
       "_view_module_version": "~2.1.4"
      }
     },
     "176b982339cb4ed8a2bf63158ae3eadf": {
      "model_module": "jupyter-js-widgets",
      "model_module_version": "*",
      "model_name": "DOMWidgetModel",
      "state": {
       "_camera_str": "orthographic",
       "_full_stage_parameters": {
        "ambientColor": 14540253,
        "ambientIntensity": 0.2,
        "backgroundColor": "white",
        "cameraFov": 40,
        "cameraType": "perspective",
        "clipDist": 10,
        "clipFar": 100,
        "clipNear": 0,
        "fogFar": 100,
        "fogNear": 50,
        "hoverTimeout": 500,
        "impostor": true,
        "lightColor": 14540253,
        "lightIntensity": 1,
        "panSpeed": 0.8,
        "quality": "medium",
        "rotateSpeed": 2,
        "sampleLevel": 0,
        "zoomSpeed": 1.2
       },
       "_image_data": "",
       "_model_name": "DOMWidgetModel",
       "_n_dragged_files": 0,
       "_original_stage_parameters": {
        "ambientColor": 14540253,
        "ambientIntensity": 0.2,
        "backgroundColor": "white",
        "cameraFov": 40,
        "cameraType": "perspective",
        "clipDist": 10,
        "clipFar": 100,
        "clipNear": 0,
        "fogFar": 100,
        "fogNear": 50,
        "hoverTimeout": 500,
        "impostor": true,
        "lightColor": 14540253,
        "lightIntensity": 1,
        "panSpeed": 0.8,
        "quality": "medium",
        "rotateSpeed": 2,
        "sampleLevel": 0,
        "zoomSpeed": 1.2
       },
       "_view_module": "nglview-js-widgets",
       "_view_name": "NGLView",
       "background": "white",
       "count": 1,
       "frame": 0,
       "layout": "IPY_MODEL_4a7bcaf30e78428aa3c284d2e36bf9f6",
       "n_components": 1,
       "orientation": [],
       "picked": {}
      }
     },
     "1993509e835247aca1b915862731383c": {
      "model_module": "jupyter-js-widgets",
      "model_module_version": "*",
      "model_name": "DOMWidgetModel",
      "state": {
       "_camera_str": "orthographic",
       "_full_stage_parameters": {
        "ambientColor": 14540253,
        "ambientIntensity": 0.2,
        "backgroundColor": "white",
        "cameraFov": 40,
        "cameraType": "perspective",
        "clipDist": 10,
        "clipFar": 100,
        "clipNear": 0,
        "fogFar": 100,
        "fogNear": 50,
        "hoverTimeout": 500,
        "impostor": true,
        "lightColor": 14540253,
        "lightIntensity": 1,
        "panSpeed": 0.8,
        "quality": "medium",
        "rotateSpeed": 2,
        "sampleLevel": 0,
        "zoomSpeed": 1.2
       },
       "_image_data": "",
       "_model_name": "DOMWidgetModel",
       "_n_dragged_files": 0,
       "_original_stage_parameters": {
        "ambientColor": 14540253,
        "ambientIntensity": 0.2,
        "backgroundColor": "white",
        "cameraFov": 40,
        "cameraType": "perspective",
        "clipDist": 10,
        "clipFar": 100,
        "clipNear": 0,
        "fogFar": 100,
        "fogNear": 50,
        "hoverTimeout": 500,
        "impostor": true,
        "lightColor": 14540253,
        "lightIntensity": 1,
        "panSpeed": 0.8,
        "quality": "medium",
        "rotateSpeed": 2,
        "sampleLevel": 0,
        "zoomSpeed": 1.2
       },
       "_view_module": "nglview-js-widgets",
       "_view_name": "NGLView",
       "background": "white",
       "count": 1,
       "frame": 0,
       "layout": "IPY_MODEL_e09d49d6f5ef43e985725cc4dad2d05c",
       "n_components": 1,
       "orientation": [],
       "picked": {}
      }
     },
     "29b5e393d10b42858ef0c8a18ea0a172": {
      "model_module": "jupyter-js-widgets",
      "model_module_version": "*",
      "model_name": "DOMWidgetModel",
      "state": {
       "_camera_str": "orthographic",
       "_full_stage_parameters": {
        "ambientColor": 14540253,
        "ambientIntensity": 0.2,
        "backgroundColor": "white",
        "cameraFov": 40,
        "cameraType": "perspective",
        "clipDist": 10,
        "clipFar": 100,
        "clipNear": 0,
        "fogFar": 100,
        "fogNear": 50,
        "hoverTimeout": 500,
        "impostor": true,
        "lightColor": 14540253,
        "lightIntensity": 1,
        "panSpeed": 0.8,
        "quality": "medium",
        "rotateSpeed": 2,
        "sampleLevel": 0,
        "zoomSpeed": 1.2
       },
       "_image_data": "",
       "_model_name": "DOMWidgetModel",
       "_n_dragged_files": 0,
       "_original_stage_parameters": {
        "ambientColor": 14540253,
        "ambientIntensity": 0.2,
        "backgroundColor": "white",
        "cameraFov": 40,
        "cameraType": "perspective",
        "clipDist": 10,
        "clipFar": 100,
        "clipNear": 0,
        "fogFar": 100,
        "fogNear": 50,
        "hoverTimeout": 500,
        "impostor": true,
        "lightColor": 14540253,
        "lightIntensity": 1,
        "panSpeed": 0.8,
        "quality": "medium",
        "rotateSpeed": 2,
        "sampleLevel": 0,
        "zoomSpeed": 1.2
       },
       "_view_module": "nglview-js-widgets",
       "_view_name": "NGLView",
       "background": "white",
       "count": 1,
       "frame": 0,
       "layout": "IPY_MODEL_43fc98d89e554849931afe0aba364e8f",
       "n_components": 0,
       "orientation": [],
       "picked": {}
      }
     },
     "2bbb00b63b094a8ea947d8de206dcbff": {
      "model_module": "jupyter-js-widgets",
      "model_module_version": "~2.1.4",
      "model_name": "ImageModel",
      "state": {
       "_model_module_version": "~2.1.4",
       "_view_module_version": "~2.1.4",
       "layout": "IPY_MODEL_3081e04806064f9b9c3c1f5f3488571d",
       "width": "900.0"
      }
     },
     "2e5074b431684a55b2dafa07f781c28c": {
      "model_module": "jupyter-js-widgets",
      "model_module_version": "~2.1.4",
      "model_name": "ImageModel",
      "state": {
       "_model_module_version": "~2.1.4",
       "_view_module_version": "~2.1.4",
       "layout": "IPY_MODEL_160698ef9d664b8580b9524b40c18121",
       "width": "900.0"
      }
     },
     "3081e04806064f9b9c3c1f5f3488571d": {
      "model_module": "jupyter-js-widgets",
      "model_module_version": "~2.1.4",
      "model_name": "LayoutModel",
      "state": {
       "_model_module_version": "~2.1.4",
       "_view_module_version": "~2.1.4"
      }
     },
     "320755d3d5644808982590fa99c2515e": {
      "model_module": "jupyter-js-widgets",
      "model_module_version": "*",
      "model_name": "DOMWidgetModel",
      "state": {
       "_camera_str": "orthographic",
       "_full_stage_parameters": {
        "ambientColor": 14540253,
        "ambientIntensity": 0.2,
        "backgroundColor": "white",
        "cameraFov": 40,
        "cameraType": "perspective",
        "clipDist": 10,
        "clipFar": 100,
        "clipNear": 0,
        "fogFar": 100,
        "fogNear": 50,
        "hoverTimeout": 500,
        "impostor": true,
        "lightColor": 14540253,
        "lightIntensity": 1,
        "panSpeed": 0.8,
        "quality": "medium",
        "rotateSpeed": 2,
        "sampleLevel": 0,
        "zoomSpeed": 1.2
       },
       "_image_data": "",
       "_model_name": "DOMWidgetModel",
       "_n_dragged_files": 0,
       "_original_stage_parameters": {
        "ambientColor": 14540253,
        "ambientIntensity": 0.2,
        "backgroundColor": "white",
        "cameraFov": 40,
        "cameraType": "perspective",
        "clipDist": 10,
        "clipFar": 100,
        "clipNear": 0,
        "fogFar": 100,
        "fogNear": 50,
        "hoverTimeout": 500,
        "impostor": true,
        "lightColor": 14540253,
        "lightIntensity": 1,
        "panSpeed": 0.8,
        "quality": "medium",
        "rotateSpeed": 2,
        "sampleLevel": 0,
        "zoomSpeed": 1.2
       },
       "_view_module": "nglview-js-widgets",
       "_view_name": "NGLView",
       "background": "white",
       "count": 1,
       "frame": 0,
       "layout": "IPY_MODEL_ecb4a85f6ecc444b8bc86c96571bf41c",
       "n_components": 1,
       "orientation": [],
       "picked": {}
      }
     },
     "37422d7d24134e2f94bf64e9692f88b8": {
      "model_module": "jupyter-js-widgets",
      "model_module_version": "~2.1.4",
      "model_name": "LayoutModel",
      "state": {
       "_model_module_version": "~2.1.4",
       "_view_module_version": "~2.1.4"
      }
     },
     "380050d3192e4f4b99e2b861c066b3d5": {
      "model_module": "jupyter-js-widgets",
      "model_module_version": "~2.1.4",
      "model_name": "LayoutModel",
      "state": {
       "_model_module_version": "~2.1.4",
       "_view_module_version": "~2.1.4"
      }
     },
     "38cff443a63e4d2490149de9fef89a87": {
      "model_module": "jupyter-js-widgets",
      "model_module_version": "~2.1.4",
      "model_name": "LayoutModel",
      "state": {
       "_model_module_version": "~2.1.4",
       "_view_module_version": "~2.1.4"
      }
     },
     "43fc98d89e554849931afe0aba364e8f": {
      "model_module": "jupyter-js-widgets",
      "model_module_version": "~2.1.4",
      "model_name": "LayoutModel",
      "state": {
       "_model_module_version": "~2.1.4",
       "_view_module_version": "~2.1.4"
      }
     },
     "46e56d4e292f448bb968ede11a26c456": {
      "model_module": "jupyter-js-widgets",
      "model_module_version": "~2.1.4",
      "model_name": "LayoutModel",
      "state": {
       "_model_module_version": "~2.1.4",
       "_view_module_version": "~2.1.4"
      }
     },
     "4a7bcaf30e78428aa3c284d2e36bf9f6": {
      "model_module": "jupyter-js-widgets",
      "model_module_version": "~2.1.4",
      "model_name": "LayoutModel",
      "state": {
       "_model_module_version": "~2.1.4",
       "_view_module_version": "~2.1.4"
      }
     },
     "4bbd94def27645f6bc3dad6713a20dd7": {
      "model_module": "jupyter-js-widgets",
      "model_module_version": "~2.1.4",
      "model_name": "LayoutModel",
      "state": {
       "_model_module_version": "~2.1.4",
       "_view_module_version": "~2.1.4"
      }
     },
     "57e4ac14c32549f1992d0856989312fd": {
      "model_module": "jupyter-js-widgets",
      "model_module_version": "~2.1.4",
      "model_name": "LayoutModel",
      "state": {
       "_model_module_version": "~2.1.4",
       "_view_module_version": "~2.1.4"
      }
     },
     "661fefa03644456db2d074b8e9ea1cd3": {
      "model_module": "jupyter-js-widgets",
      "model_module_version": "~2.1.4",
      "model_name": "ImageModel",
      "state": {
       "_model_module_version": "~2.1.4",
       "_view_module_version": "~2.1.4",
       "layout": "IPY_MODEL_c7a526513dd74325afb7142daefa62c9",
       "width": "900.0"
      }
     },
     "67fdde3622614c41b0a801283cf87a6a": {
      "model_module": "jupyter-js-widgets",
      "model_module_version": "~2.1.4",
      "model_name": "LayoutModel",
      "state": {
       "_model_module_version": "~2.1.4",
       "_view_module_version": "~2.1.4"
      }
     },
     "6c7fd4d46170412b8578d105b3309884": {
      "model_module": "jupyter-js-widgets",
      "model_module_version": "*",
      "model_name": "DOMWidgetModel",
      "state": {
       "_camera_str": "orthographic",
       "_full_stage_parameters": {
        "ambientColor": 14540253,
        "ambientIntensity": 0.2,
        "backgroundColor": "white",
        "cameraFov": 40,
        "cameraType": "perspective",
        "clipDist": 10,
        "clipFar": 100,
        "clipNear": 0,
        "fogFar": 100,
        "fogNear": 50,
        "hoverTimeout": 500,
        "impostor": true,
        "lightColor": 14540253,
        "lightIntensity": 1,
        "panSpeed": 0.8,
        "quality": "medium",
        "rotateSpeed": 2,
        "sampleLevel": 0,
        "zoomSpeed": 1.2
       },
       "_image_data": "",
       "_model_name": "DOMWidgetModel",
       "_n_dragged_files": 0,
       "_original_stage_parameters": {
        "ambientColor": 14540253,
        "ambientIntensity": 0.2,
        "backgroundColor": "white",
        "cameraFov": 40,
        "cameraType": "perspective",
        "clipDist": 10,
        "clipFar": 100,
        "clipNear": 0,
        "fogFar": 100,
        "fogNear": 50,
        "hoverTimeout": 500,
        "impostor": true,
        "lightColor": 14540253,
        "lightIntensity": 1,
        "panSpeed": 0.8,
        "quality": "medium",
        "rotateSpeed": 2,
        "sampleLevel": 0,
        "zoomSpeed": 1.2
       },
       "_view_module": "nglview-js-widgets",
       "_view_name": "NGLView",
       "background": "white",
       "count": 1,
       "frame": 0,
       "layout": "IPY_MODEL_78d7738daa4a4bb4935b2dfce97cc469",
       "n_components": 1,
       "orientation": [],
       "picked": {}
      }
     },
     "78d7738daa4a4bb4935b2dfce97cc469": {
      "model_module": "jupyter-js-widgets",
      "model_module_version": "~2.1.4",
      "model_name": "LayoutModel",
      "state": {
       "_model_module_version": "~2.1.4",
       "_view_module_version": "~2.1.4"
      }
     },
     "8a462f72cacd4e8c929e3f46002e7152": {
      "model_module": "jupyter-js-widgets",
      "model_module_version": "*",
      "model_name": "DOMWidgetModel",
      "state": {
       "_camera_str": "orthographic",
       "_full_stage_parameters": {
        "ambientColor": 14540253,
        "ambientIntensity": 0.2,
        "backgroundColor": "white",
        "cameraFov": 40,
        "cameraType": "perspective",
        "clipDist": 10,
        "clipFar": 100,
        "clipNear": 0,
        "fogFar": 100,
        "fogNear": 50,
        "hoverTimeout": 500,
        "impostor": true,
        "lightColor": 14540253,
        "lightIntensity": 1,
        "panSpeed": 0.8,
        "quality": "medium",
        "rotateSpeed": 2,
        "sampleLevel": 0,
        "zoomSpeed": 1.2
       },
       "_image_data": "",
       "_model_name": "DOMWidgetModel",
       "_n_dragged_files": 0,
       "_original_stage_parameters": {
        "ambientColor": 14540253,
        "ambientIntensity": 0.2,
        "backgroundColor": "white",
        "cameraFov": 40,
        "cameraType": "perspective",
        "clipDist": 10,
        "clipFar": 100,
        "clipNear": 0,
        "fogFar": 100,
        "fogNear": 50,
        "hoverTimeout": 500,
        "impostor": true,
        "lightColor": 14540253,
        "lightIntensity": 1,
        "panSpeed": 0.8,
        "quality": "medium",
        "rotateSpeed": 2,
        "sampleLevel": 0,
        "zoomSpeed": 1.2
       },
       "_view_module": "nglview-js-widgets",
       "_view_name": "NGLView",
       "background": "white",
       "count": 1,
       "frame": 0,
       "layout": "IPY_MODEL_a8fd46f8cb874e79b64b249161712bb7",
       "n_components": 0,
       "orientation": [],
       "picked": {}
      }
     },
     "8b1906a984c44d4e8b74b3b6a3d2b34e": {
      "model_module": "jupyter-js-widgets",
      "model_module_version": "~2.1.4",
      "model_name": "ImageModel",
      "state": {
       "_model_module_version": "~2.1.4",
       "_view_module_version": "~2.1.4",
       "layout": "IPY_MODEL_67fdde3622614c41b0a801283cf87a6a",
       "width": "900.0"
      }
     },
     "8db295aeaced41d29ece18f0db7071c5": {
      "model_module": "jupyter-js-widgets",
      "model_module_version": "*",
      "model_name": "DOMWidgetModel",
      "state": {
       "_camera_str": "orthographic",
       "_full_stage_parameters": {
        "ambientColor": 14540253,
        "ambientIntensity": 0.2,
        "backgroundColor": "white",
        "cameraFov": 40,
        "cameraType": "perspective",
        "clipDist": 10,
        "clipFar": 100,
        "clipNear": 0,
        "fogFar": 100,
        "fogNear": 50,
        "hoverTimeout": 500,
        "impostor": true,
        "lightColor": 14540253,
        "lightIntensity": 1,
        "panSpeed": 0.8,
        "quality": "medium",
        "rotateSpeed": 2,
        "sampleLevel": 0,
        "zoomSpeed": 1.2
       },
       "_image_data": "",
       "_model_name": "DOMWidgetModel",
       "_n_dragged_files": 0,
       "_original_stage_parameters": {
        "ambientColor": 14540253,
        "ambientIntensity": 0.2,
        "backgroundColor": "white",
        "cameraFov": 40,
        "cameraType": "perspective",
        "clipDist": 10,
        "clipFar": 100,
        "clipNear": 0,
        "fogFar": 100,
        "fogNear": 50,
        "hoverTimeout": 500,
        "impostor": true,
        "lightColor": 14540253,
        "lightIntensity": 1,
        "panSpeed": 0.8,
        "quality": "medium",
        "rotateSpeed": 2,
        "sampleLevel": 0,
        "zoomSpeed": 1.2
       },
       "_view_module": "nglview-js-widgets",
       "_view_name": "NGLView",
       "background": "white",
       "count": 1,
       "frame": 0,
       "layout": "IPY_MODEL_37422d7d24134e2f94bf64e9692f88b8",
       "n_components": 1,
       "orientation": [],
       "picked": {}
      }
     },
     "9b8af3f95c024944bed51d5f1b220f69": {
      "model_module": "jupyter-js-widgets",
      "model_module_version": "~2.1.4",
      "model_name": "ImageModel",
      "state": {
       "_model_module_version": "~2.1.4",
       "_view_module_version": "~2.1.4",
       "layout": "IPY_MODEL_46e56d4e292f448bb968ede11a26c456",
       "width": "900.0"
      }
     },
     "a0fce6906fb74c2581dab694ff6ab98a": {
      "model_module": "jupyter-js-widgets",
      "model_module_version": "*",
      "model_name": "DOMWidgetModel",
      "state": {
       "_camera_str": "orthographic",
       "_full_stage_parameters": {
        "ambientColor": 14540253,
        "ambientIntensity": 0.2,
        "backgroundColor": "white",
        "cameraFov": 40,
        "cameraType": "perspective",
        "clipDist": 10,
        "clipFar": 100,
        "clipNear": 0,
        "fogFar": 100,
        "fogNear": 50,
        "hoverTimeout": 500,
        "impostor": true,
        "lightColor": 14540253,
        "lightIntensity": 1,
        "panSpeed": 0.8,
        "quality": "medium",
        "rotateSpeed": 2,
        "sampleLevel": 0,
        "zoomSpeed": 1.2
       },
       "_image_data": "",
       "_model_name": "DOMWidgetModel",
       "_n_dragged_files": 0,
       "_original_stage_parameters": {
        "ambientColor": 14540253,
        "ambientIntensity": 0.2,
        "backgroundColor": "white",
        "cameraFov": 40,
        "cameraType": "perspective",
        "clipDist": 10,
        "clipFar": 100,
        "clipNear": 0,
        "fogFar": 100,
        "fogNear": 50,
        "hoverTimeout": 500,
        "impostor": true,
        "lightColor": 14540253,
        "lightIntensity": 1,
        "panSpeed": 0.8,
        "quality": "medium",
        "rotateSpeed": 2,
        "sampleLevel": 0,
        "zoomSpeed": 1.2
       },
       "_view_module": "nglview-js-widgets",
       "_view_name": "NGLView",
       "background": "white",
       "count": 1,
       "frame": 0,
       "layout": "IPY_MODEL_d3db66d05cfc4e2aadb4a9cc5819e9b2",
       "n_components": 0,
       "orientation": [],
       "picked": {}
      }
     },
     "a29e37f9ae6e4272a4fade64e2e8e93b": {
      "model_module": "jupyter-js-widgets",
      "model_module_version": "~2.1.4",
      "model_name": "LayoutModel",
      "state": {
       "_model_module_version": "~2.1.4",
       "_view_module_version": "~2.1.4"
      }
     },
     "a8fd46f8cb874e79b64b249161712bb7": {
      "model_module": "jupyter-js-widgets",
      "model_module_version": "~2.1.4",
      "model_name": "LayoutModel",
      "state": {
       "_model_module_version": "~2.1.4",
       "_view_module_version": "~2.1.4"
      }
     },
     "ac6f9846473a489f94c8890c316c4a70": {
      "model_module": "jupyter-js-widgets",
      "model_module_version": "~2.1.4",
      "model_name": "ImageModel",
      "state": {
       "_model_module_version": "~2.1.4",
       "_view_module_version": "~2.1.4",
       "layout": "IPY_MODEL_38cff443a63e4d2490149de9fef89a87",
       "width": "900.0"
      }
     },
     "bcd64dee983b4b9eb6560e6f0c9b0946": {
      "model_module": "jupyter-js-widgets",
      "model_module_version": "~2.1.4",
      "model_name": "ImageModel",
      "state": {
       "_model_module_version": "~2.1.4",
       "_view_module_version": "~2.1.4",
       "layout": "IPY_MODEL_146c18a2608e4971a1c8aab11498e012",
       "width": "900.0"
      }
     },
     "bf660ec7d7284db483103370ac2cad2a": {
      "model_module": "jupyter-js-widgets",
      "model_module_version": "*",
      "model_name": "DOMWidgetModel",
      "state": {
       "_camera_str": "orthographic",
       "_full_stage_parameters": {
        "ambientColor": 14540253,
        "ambientIntensity": 0.2,
        "backgroundColor": "white",
        "cameraFov": 40,
        "cameraType": "perspective",
        "clipDist": 10,
        "clipFar": 100,
        "clipNear": 0,
        "fogFar": 100,
        "fogNear": 50,
        "hoverTimeout": 500,
        "impostor": true,
        "lightColor": 14540253,
        "lightIntensity": 1,
        "panSpeed": 0.8,
        "quality": "medium",
        "rotateSpeed": 2,
        "sampleLevel": 0,
        "zoomSpeed": 1.2
       },
       "_image_data": "",
       "_model_name": "DOMWidgetModel",
       "_n_dragged_files": 0,
       "_original_stage_parameters": {
        "ambientColor": 14540253,
        "ambientIntensity": 0.2,
        "backgroundColor": "white",
        "cameraFov": 40,
        "cameraType": "perspective",
        "clipDist": 10,
        "clipFar": 100,
        "clipNear": 0,
        "fogFar": 100,
        "fogNear": 50,
        "hoverTimeout": 500,
        "impostor": true,
        "lightColor": 14540253,
        "lightIntensity": 1,
        "panSpeed": 0.8,
        "quality": "medium",
        "rotateSpeed": 2,
        "sampleLevel": 0,
        "zoomSpeed": 1.2
       },
       "_view_module": "nglview-js-widgets",
       "_view_name": "NGLView",
       "background": "white",
       "count": 1,
       "frame": 0,
       "layout": "IPY_MODEL_06c06380f7cb43068ffe173cc67b054e",
       "n_components": 0,
       "orientation": [],
       "picked": {}
      }
     },
     "c331edb8657d4ad294b17b74b95a6cba": {
      "model_module": "jupyter-js-widgets",
      "model_module_version": "~2.1.4",
      "model_name": "ImageModel",
      "state": {
       "_model_module_version": "~2.1.4",
       "_view_module_version": "~2.1.4",
       "layout": "IPY_MODEL_a29e37f9ae6e4272a4fade64e2e8e93b",
       "width": "900.0"
      }
     },
     "c43f710328d5448085b6c2ec0cde2df5": {
      "model_module": "jupyter-js-widgets",
      "model_module_version": "*",
      "model_name": "DOMWidgetModel",
      "state": {
       "_camera_str": "orthographic",
       "_full_stage_parameters": {
        "ambientColor": 14540253,
        "ambientIntensity": 0.2,
        "backgroundColor": "white",
        "cameraFov": 40,
        "cameraType": "perspective",
        "clipDist": 10,
        "clipFar": 100,
        "clipNear": 0,
        "fogFar": 100,
        "fogNear": 50,
        "hoverTimeout": 500,
        "impostor": true,
        "lightColor": 14540253,
        "lightIntensity": 1,
        "panSpeed": 0.8,
        "quality": "medium",
        "rotateSpeed": 2,
        "sampleLevel": 0,
        "zoomSpeed": 1.2
       },
       "_image_data": "",
       "_model_name": "DOMWidgetModel",
       "_n_dragged_files": 0,
       "_original_stage_parameters": {
        "ambientColor": 14540253,
        "ambientIntensity": 0.2,
        "backgroundColor": "white",
        "cameraFov": 40,
        "cameraType": "perspective",
        "clipDist": 10,
        "clipFar": 100,
        "clipNear": 0,
        "fogFar": 100,
        "fogNear": 50,
        "hoverTimeout": 500,
        "impostor": true,
        "lightColor": 14540253,
        "lightIntensity": 1,
        "panSpeed": 0.8,
        "quality": "medium",
        "rotateSpeed": 2,
        "sampleLevel": 0,
        "zoomSpeed": 1.2
       },
       "_view_module": "nglview-js-widgets",
       "_view_name": "NGLView",
       "background": "white",
       "count": 1,
       "frame": 0,
       "layout": "IPY_MODEL_57e4ac14c32549f1992d0856989312fd",
       "n_components": 1,
       "orientation": [],
       "picked": {}
      }
     },
     "c7364480a1644d58a2bebc38a1e0fb4c": {
      "model_module": "jupyter-js-widgets",
      "model_module_version": "~2.1.4",
      "model_name": "LayoutModel",
      "state": {
       "_model_module_version": "~2.1.4",
       "_view_module_version": "~2.1.4"
      }
     },
     "c7a526513dd74325afb7142daefa62c9": {
      "model_module": "jupyter-js-widgets",
      "model_module_version": "~2.1.4",
      "model_name": "LayoutModel",
      "state": {
       "_model_module_version": "~2.1.4",
       "_view_module_version": "~2.1.4"
      }
     },
     "d3db66d05cfc4e2aadb4a9cc5819e9b2": {
      "model_module": "jupyter-js-widgets",
      "model_module_version": "~2.1.4",
      "model_name": "LayoutModel",
      "state": {
       "_model_module_version": "~2.1.4",
       "_view_module_version": "~2.1.4"
      }
     },
     "e06ec404ede34cc7b7b2e32115e5bd21": {
      "model_module": "jupyter-js-widgets",
      "model_module_version": "*",
      "model_name": "DOMWidgetModel",
      "state": {
       "_camera_str": "orthographic",
       "_full_stage_parameters": {
        "ambientColor": 14540253,
        "ambientIntensity": 0.2,
        "backgroundColor": "white",
        "cameraFov": 40,
        "cameraType": "perspective",
        "clipDist": 10,
        "clipFar": 100,
        "clipNear": 0,
        "fogFar": 100,
        "fogNear": 50,
        "hoverTimeout": 500,
        "impostor": true,
        "lightColor": 14540253,
        "lightIntensity": 1,
        "panSpeed": 0.8,
        "quality": "medium",
        "rotateSpeed": 2,
        "sampleLevel": 0,
        "zoomSpeed": 1.2
       },
       "_image_data": "",
       "_model_name": "DOMWidgetModel",
       "_n_dragged_files": 0,
       "_original_stage_parameters": {
        "ambientColor": 14540253,
        "ambientIntensity": 0.2,
        "backgroundColor": "white",
        "cameraFov": 40,
        "cameraType": "perspective",
        "clipDist": 10,
        "clipFar": 100,
        "clipNear": 0,
        "fogFar": 100,
        "fogNear": 50,
        "hoverTimeout": 500,
        "impostor": true,
        "lightColor": 14540253,
        "lightIntensity": 1,
        "panSpeed": 0.8,
        "quality": "medium",
        "rotateSpeed": 2,
        "sampleLevel": 0,
        "zoomSpeed": 1.2
       },
       "_view_module": "nglview-js-widgets",
       "_view_name": "NGLView",
       "background": "white",
       "count": 1,
       "frame": 0,
       "layout": "IPY_MODEL_063f9430d8424354b09818d5c5f61c75",
       "n_components": 0,
       "orientation": [],
       "picked": {}
      }
     },
     "e09d49d6f5ef43e985725cc4dad2d05c": {
      "model_module": "jupyter-js-widgets",
      "model_module_version": "~2.1.4",
      "model_name": "LayoutModel",
      "state": {
       "_model_module_version": "~2.1.4",
       "_view_module_version": "~2.1.4"
      }
     },
     "e4874c9fcce5457ebe368f716486e496": {
      "model_module": "jupyter-js-widgets",
      "model_module_version": "~2.1.4",
      "model_name": "LayoutModel",
      "state": {
       "_model_module_version": "~2.1.4",
       "_view_module_version": "~2.1.4"
      }
     },
     "ec31753dc72041f4bca5736b58371473": {
      "model_module": "jupyter-js-widgets",
      "model_module_version": "*",
      "model_name": "DOMWidgetModel",
      "state": {
       "_camera_str": "orthographic",
       "_full_stage_parameters": {
        "ambientColor": 14540253,
        "ambientIntensity": 0.2,
        "backgroundColor": "white",
        "cameraFov": 40,
        "cameraType": "perspective",
        "clipDist": 10,
        "clipFar": 100,
        "clipNear": 0,
        "fogFar": 100,
        "fogNear": 50,
        "hoverTimeout": 500,
        "impostor": true,
        "lightColor": 14540253,
        "lightIntensity": 1,
        "panSpeed": 0.8,
        "quality": "medium",
        "rotateSpeed": 2,
        "sampleLevel": 0,
        "zoomSpeed": 1.2
       },
       "_image_data": "",
       "_model_name": "DOMWidgetModel",
       "_n_dragged_files": 0,
       "_original_stage_parameters": {
        "ambientColor": 14540253,
        "ambientIntensity": 0.2,
        "backgroundColor": "white",
        "cameraFov": 40,
        "cameraType": "perspective",
        "clipDist": 10,
        "clipFar": 100,
        "clipNear": 0,
        "fogFar": 100,
        "fogNear": 50,
        "hoverTimeout": 500,
        "impostor": true,
        "lightColor": 14540253,
        "lightIntensity": 1,
        "panSpeed": 0.8,
        "quality": "medium",
        "rotateSpeed": 2,
        "sampleLevel": 0,
        "zoomSpeed": 1.2
       },
       "_view_module": "nglview-js-widgets",
       "_view_name": "NGLView",
       "background": "white",
       "count": 1,
       "frame": 0,
       "layout": "IPY_MODEL_4bbd94def27645f6bc3dad6713a20dd7",
       "n_components": 0,
       "orientation": [],
       "picked": {}
      }
     },
     "ecb4a85f6ecc444b8bc86c96571bf41c": {
      "model_module": "jupyter-js-widgets",
      "model_module_version": "~2.1.4",
      "model_name": "LayoutModel",
      "state": {
       "_model_module_version": "~2.1.4",
       "_view_module_version": "~2.1.4"
      }
     },
     "f6afd199ec3c456398ca5cd35da333e1": {
      "model_module": "jupyter-js-widgets",
      "model_module_version": "~2.1.4",
      "model_name": "LayoutModel",
      "state": {
       "_model_module_version": "~2.1.4",
       "_view_module_version": "~2.1.4"
      }
     }
    },
    "version_major": 1,
    "version_minor": 0
   }
  }
 },
 "nbformat": 4,
 "nbformat_minor": 2
}
