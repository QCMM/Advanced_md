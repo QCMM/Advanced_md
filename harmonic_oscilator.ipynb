{
 "cells": [
  {
   "cell_type": "markdown",
   "metadata": {},
   "source": [
    "# This is an introductory tutorial for the Harmonic Oscilator with Openmm"
   ]
  },
  {
   "cell_type": "markdown",
   "metadata": {},
   "source": [
    "## The objectives are:\n",
    "1. Set up a system consisting of harmonic oscilator\n",
    "2. Change the initial position of the particle and calculate the potential energy and force\n",
    "3. Minimize the potential energy\n",
    "4. Perform molecular dynamics simulations at different timesteps to monitor integration errors\n",
    "\n",
    "## Homework:\n",
    "\n",
    "1. Create two alternative harmonic oscilators with doubled mass (or doubled force constants) \n",
    "2. Repeat point 2 and 3 with the two harmonic oscillators: How does the potential energy and force change\n",
    "3. Choose the appropiate time step for the new harmonic oscilator\n",
    "4. Integrate equation of motion with verlocity verlet\n"
   ]
  },
  {
   "cell_type": "code",
   "execution_count": 3,
   "metadata": {},
   "outputs": [],
   "source": [
    "from simtk import openmm, unit\n",
    "from simtk.openmm import app\n",
    "import numpy as np\n",
    "from openmmtools import testsystems"
   ]
  },
  {
   "cell_type": "code",
   "execution_count": 4,
   "metadata": {},
   "outputs": [],
   "source": [
    "import matplotlib.pyplot as plt\n",
    "import scipy as scipy\n",
    "from scipy.stats import linregress\n",
    "%matplotlib inline"
   ]
  },
  {
   "cell_type": "code",
   "execution_count": 5,
   "metadata": {},
   "outputs": [],
   "source": [
    "Ho_1 = testsystems.HarmonicOscillator()"
   ]
  },
  {
   "cell_type": "code",
   "execution_count": 6,
   "metadata": {},
   "outputs": [
    {
     "name": "stdout",
     "output_type": "stream",
     "text": [
      "Help on HarmonicOscillator in module openmmtools.testsystems object:\n",
      "\n",
      "class HarmonicOscillator(TestSystem)\n",
      " |  Create a 3D harmonic oscillator, with a single particle confined in an isotropic harmonic well.\n",
      " |  \n",
      " |  Parameters\n",
      " |  ----------\n",
      " |  K : simtk.unit.Quantity, optional, default=100.0 * unit.kilocalories_per_mole/unit.angstrom**2\n",
      " |      harmonic restraining potential\n",
      " |  mass : simtk.unit.Quantity, optional, default=39.948 * unit.amu\n",
      " |      particle mass\n",
      " |  U0 : simtk.unit.Quantity, optional, default=0.0 * unit.kilocalories_per_mole\n",
      " |      Potential offset for harmonic oscillator\n",
      " |  \n",
      " |  The functional form is given by\n",
      " |  \n",
      " |  U(x) = (K/2) * ( (x-x0)^2 + y^2 + z^2 ) + U0\n",
      " |  \n",
      " |  Attributes\n",
      " |  ----------\n",
      " |  system : simtk.openmm.System\n",
      " |      Openmm system with the harmonic oscillator\n",
      " |  positions : list\n",
      " |      positions of harmonic oscillator\n",
      " |  \n",
      " |  Context parameters\n",
      " |  ------------------\n",
      " |  testsystems_HarmonicOscillator_K\n",
      " |      Spring constant of harmonic oscillator\n",
      " |  testsystems_HarmonicOscillator_x0\n",
      " |      Reference x position for harmonic oscillator\n",
      " |  testsystems_HarmonicOscillator_U0\n",
      " |      Reference potential additive constant for harmonic oscillator\n",
      " |  \n",
      " |  Notes\n",
      " |  -----\n",
      " |  \n",
      " |  The natural period of a harmonic oscillator is T = 2*pi*sqrt(m/K), so you will want to use an\n",
      " |  integration timestep smaller than ~ T/10.\n",
      " |  \n",
      " |  The standard deviation in position in each dimension is sigma = (kT / K)^(1/2)\n",
      " |  \n",
      " |  The expectation and standard deviation of the potential energy of a 3D harmonic oscillator is (3/2)kT.\n",
      " |  \n",
      " |  Examples\n",
      " |  --------\n",
      " |  \n",
      " |  Create a 3D harmonic oscillator with default parameters:\n",
      " |  \n",
      " |  >>> ho = HarmonicOscillator()\n",
      " |  >>> (system, positions) = ho.system, ho.positions\n",
      " |  \n",
      " |  Create a harmonic oscillator with specified mass and spring constant:\n",
      " |  \n",
      " |  >>> mass = 12.0 * unit.amu\n",
      " |  >>> K = 1.0 * unit.kilocalories_per_mole / unit.angstroms**2\n",
      " |  >>> ho = HarmonicOscillator(K=K, mass=mass)\n",
      " |  >>> (system, positions) = ho.system, ho.positions\n",
      " |  \n",
      " |  Get a list of the available analytically-computed properties.\n",
      " |  \n",
      " |  >>> print(ho.analytical_properties)\n",
      " |  ['potential_expectation', 'potential_standard_deviation']\n",
      " |  \n",
      " |  Compute the potential expectation and standard deviation\n",
      " |  \n",
      " |  >>> import simtk.unit as u\n",
      " |  >>> thermodynamic_state = ThermodynamicState(temperature=298.0*u.kelvin, system=system)\n",
      " |  >>> potential_mean = ho.get_potential_expectation(thermodynamic_state)\n",
      " |  >>> potential_stddev = ho.get_potential_standard_deviation(thermodynamic_state)\n",
      " |  \n",
      " |  TODO:\n",
      " |  * Add getters and setters for K, x0, U0 that access current global parameter in system\n",
      " |  * Add method to compute free energy of the harmonic oscillator(s)\n",
      " |  \n",
      " |  Method resolution order:\n",
      " |      HarmonicOscillator\n",
      " |      TestSystem\n",
      " |      builtins.object\n",
      " |  \n",
      " |  Methods defined here:\n",
      " |  \n",
      " |  __init__(self, K=Quantity(value=100.0, unit=kilocalorie/(angstrom**2*mole)), mass=Quantity(value=39.948, unit=dalton), U0=Quantity(value=0.0, unit=kilojoule/mole), **kwargs)\n",
      " |      Abstract base class for test system.\n",
      " |      \n",
      " |      Parameters\n",
      " |      ----------\n",
      " |  \n",
      " |  get_potential_expectation(self, state)\n",
      " |      Return the expectation of the potential energy, computed analytically or numerically.\n",
      " |      \n",
      " |      Arguments\n",
      " |      ---------\n",
      " |      \n",
      " |      state : ThermodynamicState with temperature defined\n",
      " |          The thermodynamic state at which the property is to be computed.\n",
      " |      \n",
      " |      Returns\n",
      " |      -------\n",
      " |      \n",
      " |      potential_mean : simtk.unit.Quantity compatible with simtk.unit.kilojoules_per_mole\n",
      " |          The expectation of the potential energy.\n",
      " |  \n",
      " |  get_potential_standard_deviation(self, state)\n",
      " |      Return the standard deviation of the potential energy, computed analytically or numerically.\n",
      " |      \n",
      " |      Arguments\n",
      " |      ---------\n",
      " |      \n",
      " |      state : ThermodynamicState with temperature defined\n",
      " |          The thermodynamic state at which the property is to be computed.\n",
      " |      \n",
      " |      Returns\n",
      " |      -------\n",
      " |      \n",
      " |      potential_stddev : simtk.unit.Quantity compatible with simtk.unit.kilojoules_per_mole\n",
      " |          potential energy standard deviation if implemented, or else None\n",
      " |  \n",
      " |  ----------------------------------------------------------------------\n",
      " |  Methods inherited from TestSystem:\n",
      " |  \n",
      " |  reduced_potential_expectation(self, state_sampled_from, state_evaluated_in)\n",
      " |      Calculate the expected potential energy in state_sampled_from, divided by kB * T in state_evaluated_in.\n",
      " |      \n",
      " |      Notes\n",
      " |      -----\n",
      " |      \n",
      " |      This is not called get_reduced_potential_expectation because this function\n",
      " |      requires two, not one, inputs.\n",
      " |  \n",
      " |  serialize(self)\n",
      " |      Return the System and positions in serialized XML form.\n",
      " |      \n",
      " |      Returns\n",
      " |      -------\n",
      " |      \n",
      " |      system_xml : str\n",
      " |          Serialized XML form of System object.\n",
      " |      \n",
      " |      state_xml : str\n",
      " |          Serialized XML form of State object containing particle positions.\n",
      " |  \n",
      " |  ----------------------------------------------------------------------\n",
      " |  Data descriptors inherited from TestSystem:\n",
      " |  \n",
      " |  __dict__\n",
      " |      dictionary for instance variables (if defined)\n",
      " |  \n",
      " |  __weakref__\n",
      " |      list of weak references to the object (if defined)\n",
      " |  \n",
      " |  analytical_properties\n",
      " |      A list of available analytical properties, accessible via 'get_propertyname(thermodynamic_state)' calls.\n",
      " |  \n",
      " |  mdtraj_topology\n",
      " |      The mdtraj.Topology object corresponding to the test system (read-only).\n",
      " |  \n",
      " |  name\n",
      " |      The name of the test system.\n",
      " |  \n",
      " |  positions\n",
      " |      The simtk.unit.Quantity object containing the particle positions, with units compatible with simtk.unit.nanometers.\n",
      " |  \n",
      " |  system\n",
      " |      The simtk.openmm.System object corresponding to the test system.\n",
      " |  \n",
      " |  topology\n",
      " |      The simtk.openmm.app.Topology object corresponding to the test system.\n",
      "\n"
     ]
    }
   ],
   "source": [
    "help(Ho_1)"
   ]
  },
  {
   "cell_type": "code",
   "execution_count": 7,
   "metadata": {},
   "outputs": [],
   "source": [
    "position = Ho_1.positions"
   ]
  },
  {
   "cell_type": "code",
   "execution_count": 8,
   "metadata": {},
   "outputs": [
    {
     "name": "stdout",
     "output_type": "stream",
     "text": [
      "[[0. 0. 0.]] A\n"
     ]
    }
   ],
   "source": [
    "print(position)"
   ]
  },
  {
   "cell_type": "markdown",
   "metadata": {},
   "source": [
    "### Now we change the position (point 2)"
   ]
  },
  {
   "cell_type": "code",
   "execution_count": 9,
   "metadata": {},
   "outputs": [
    {
     "name": "stdout",
     "output_type": "stream",
     "text": [
      "[[1, 0, 0]]\n"
     ]
    }
   ],
   "source": [
    "new_position = [[1 , 0, 0]]\n",
    "Ho_1.positions = new_position\n",
    "print(Ho_1.positions)"
   ]
  },
  {
   "cell_type": "markdown",
   "metadata": {},
   "source": [
    "It is better to use the unit in the position. Standard unit in the harmonic oscilator are kcal/mol and kcal/mol/AA^2"
   ]
  },
  {
   "cell_type": "code",
   "execution_count": 10,
   "metadata": {},
   "outputs": [
    {
     "name": "stdout",
     "output_type": "stream",
     "text": [
      "[[Quantity(value=1, unit=angstrom), 0, 0]]\n"
     ]
    }
   ],
   "source": [
    "new_position = [[1 * unit.angstrom , 0, 0]]\n",
    "Ho_1.positions = new_position\n",
    "print(Ho_1.positions)"
   ]
  },
  {
   "cell_type": "markdown",
   "metadata": {},
   "source": [
    "Now we define an integrator class with the verlet intergrator and a timestep o 1 fs.\n"
   ]
  },
  {
   "cell_type": "code",
   "execution_count": 11,
   "metadata": {},
   "outputs": [],
   "source": [
    "timestep = 1.0 * unit.femtosecond\n",
    "integrator = openmm.VerletIntegrator(timestep)"
   ]
  },
  {
   "cell_type": "markdown",
   "metadata": {},
   "source": [
    "With the integrator we define a context class which stores the current state of the simulation."
   ]
  },
  {
   "cell_type": "code",
   "execution_count": 12,
   "metadata": {},
   "outputs": [],
   "source": [
    "context = openmm.Context(Ho_1.system,integrator)"
   ]
  },
  {
   "cell_type": "markdown",
   "metadata": {},
   "source": [
    "Before doing anything with context class we have to define the initial position"
   ]
  },
  {
   "cell_type": "code",
   "execution_count": 13,
   "metadata": {},
   "outputs": [],
   "source": [
    "context.setPositions(Ho_1.positions)"
   ]
  },
  {
   "cell_type": "markdown",
   "metadata": {},
   "source": [
    "With this initial position we want to know some properties of the harmonic oscilator in the current state as:\n",
    "\n",
    "1. Potential energy\n",
    "2. Force\n",
    "\n",
    "This is done with the getState function of context class and the output is a copy of the current state which contains  all variables which were set to True. This variables can be obtained with the getXXX function of the new class"
   ]
  },
  {
   "cell_type": "code",
   "execution_count": 14,
   "metadata": {},
   "outputs": [],
   "source": [
    "state = context.getState(getEnergy=True, getForces=True)\n",
    "potential_energy = state.getPotentialEnergy()"
   ]
  },
  {
   "cell_type": "code",
   "execution_count": 15,
   "metadata": {},
   "outputs": [
    {
     "name": "stdout",
     "output_type": "stream",
     "text": [
      "209.20001220703125 kJ/mol\n"
     ]
    }
   ],
   "source": [
    "print(potential_energy)"
   ]
  },
  {
   "cell_type": "code",
   "execution_count": 16,
   "metadata": {},
   "outputs": [
    {
     "name": "stdout",
     "output_type": "stream",
     "text": [
      "[Vec3(x=-4184.0, y=0.0, z=0.0)] kJ/(nm mol)\n"
     ]
    }
   ],
   "source": [
    "print(state.getForces())"
   ]
  },
  {
   "cell_type": "markdown",
   "metadata": {},
   "source": [
    "Let´s reduce the position in x to only 0.1 angstrom"
   ]
  },
  {
   "cell_type": "code",
   "execution_count": 17,
   "metadata": {},
   "outputs": [],
   "source": [
    "position = [[0.1 * unit.angstrom, 0., 0.]]"
   ]
  },
  {
   "cell_type": "code",
   "execution_count": 18,
   "metadata": {},
   "outputs": [],
   "source": [
    "context.setPositions(position)"
   ]
  },
  {
   "cell_type": "code",
   "execution_count": 19,
   "metadata": {},
   "outputs": [],
   "source": [
    "state = context.getState(getEnergy=True, getForces=True)"
   ]
  },
  {
   "cell_type": "code",
   "execution_count": 20,
   "metadata": {},
   "outputs": [
    {
     "name": "stdout",
     "output_type": "stream",
     "text": [
      "2.0920000076293945 kJ/mol [Vec3(x=-418.3999938964844, y=0.0, z=0.0)] kJ/(nm mol)\n"
     ]
    }
   ],
   "source": [
    "print(state.getPotentialEnergy(), state.getForces())"
   ]
  },
  {
   "cell_type": "markdown",
   "metadata": {},
   "source": [
    "### Now let´s minimize the potential energy of the harmonic oscilator system with the LocalEnergyMinimizer class (point 3)"
   ]
  },
  {
   "cell_type": "code",
   "execution_count": 21,
   "metadata": {},
   "outputs": [],
   "source": [
    "openmm.LocalEnergyMinimizer.minimize(context)"
   ]
  },
  {
   "cell_type": "code",
   "execution_count": 22,
   "metadata": {},
   "outputs": [],
   "source": [
    "state = context.getState(getPositions=True,getEnergy=True)"
   ]
  },
  {
   "cell_type": "code",
   "execution_count": 23,
   "metadata": {},
   "outputs": [
    {
     "data": {
      "text/plain": [
       "(Quantity(value=[Vec3(x=-7.763989451348152e-11, y=0.0, z=0.0)], unit=nanometer),\n",
       " Quantity(value=1.2610478287956254e-16, unit=kilojoule/mole))"
      ]
     },
     "execution_count": 23,
     "metadata": {},
     "output_type": "execute_result"
    }
   ],
   "source": [
    "state.getPositions(), state.getPotentialEnergy()"
   ]
  },
  {
   "cell_type": "markdown",
   "metadata": {},
   "source": [
    "We are at the bottom of the harmonic oscilator again. \n",
    "\n",
    "### Let´s go back to the original positions and do some molecular dynamics at constant energy (microcanonical ensemble) (point 4)"
   ]
  },
  {
   "cell_type": "markdown",
   "metadata": {},
   "source": [
    "The total simulation time will be 3 times the period of the oscilator which is given as:"
   ]
  },
  {
   "cell_type": "code",
   "execution_count": 24,
   "metadata": {},
   "outputs": [
    {
     "name": "stdout",
     "output_type": "stream",
     "text": [
      "0.19414738754194238 ps\n"
     ]
    }
   ],
   "source": [
    "T = 2 * np.pi * np.sqrt(Ho_1.mass / Ho_1.K)\n",
    "print(T)"
   ]
  },
  {
   "cell_type": "markdown",
   "metadata": {},
   "source": [
    "First start a new simulation with a new context class using a timestep the factor times smaller than the period"
   ]
  },
  {
   "cell_type": "code",
   "execution_count": 25,
   "metadata": {},
   "outputs": [],
   "source": [
    "del context, integrator\n",
    "factor = 10\n",
    "timestep = T / factor\n",
    "integrator = openmm.VerletIntegrator(timestep)\n",
    "position = [[0.1 * unit.nanometer, 0., 0.]]\n",
    "context = openmm.Context(Ho_1.system,integrator)\n",
    "context.setPositions(position)"
   ]
  },
  {
   "cell_type": "code",
   "execution_count": 26,
   "metadata": {},
   "outputs": [
    {
     "name": "stdout",
     "output_type": "stream",
     "text": [
      "   0.000 ps : position     0.100000 nm\n",
      "   0.019 ps : position     0.060522 nm\n",
      "   0.039 ps : position    -0.002850 nm\n",
      "   0.058 ps : position    -0.065096 nm\n",
      "   0.078 ps : position    -0.101644 nm\n",
      "   0.097 ps : position    -0.098064 nm\n",
      "   0.116 ps : position    -0.055770 nm\n",
      "   0.136 ps : position     0.008541 nm\n",
      "   0.155 ps : position     0.069480 nm\n",
      "   0.175 ps : position     0.102989 nm\n"
     ]
    }
   ],
   "source": [
    "total_iterations = factor \n",
    "for iteration in range(total_iterations):\n",
    "    state = context.getState(getEnergy=True,getPositions=True)   \n",
    "    print('%8.3f ps : position %12.6f nm' % (state.getTime() / unit.picoseconds, state.getPositions()[0][0] / unit.nanometer))\n",
    "    integrator.step(1)"
   ]
  },
  {
   "cell_type": "markdown",
   "metadata": {},
   "source": [
    "Why is the final position not exactly the one at the beginning after one period?\n",
    "\n",
    "What can I do to make them equal each other?"
   ]
  },
  {
   "cell_type": "code",
   "execution_count": 27,
   "metadata": {},
   "outputs": [],
   "source": [
    "del context, integrator\n",
    "factor = 10\n",
    "timestep = T / factor\n",
    "integrator = openmm.VerletIntegrator(timestep)\n",
    "position = [[0.1 * unit.nanometer, 0., 0.]]\n",
    "context = openmm.Context(Ho_1.system,integrator)\n",
    "context.setPositions(position)"
   ]
  },
  {
   "cell_type": "markdown",
   "metadata": {},
   "source": [
    "Let´s look at the potential enerygy after three periods of oscilation"
   ]
  },
  {
   "cell_type": "code",
   "execution_count": 28,
   "metadata": {},
   "outputs": [],
   "source": [
    "del context, integrator\n",
    "factor = 10\n",
    "timestep = T / factor\n",
    "integrator = openmm.VerletIntegrator(timestep)\n",
    "position = [[0.1 * unit.nanometer, 0., 0.]]\n",
    "context = openmm.Context(Ho_1.system,integrator)\n",
    "context.setPositions(position)"
   ]
  },
  {
   "cell_type": "code",
   "execution_count": 29,
   "metadata": {},
   "outputs": [
    {
     "name": "stdout",
     "output_type": "stream",
     "text": [
      "   0.000 ps : energy   209.200012 kJ/mol\n",
      "   0.019 ps : energy    76.627052 kJ/mol\n",
      "   0.039 ps : energy     0.169900 kJ/mol\n",
      "   0.058 ps : energy    88.648636 kJ/mol\n",
      "   0.078 ps : energy   216.133057 kJ/mol\n",
      "   0.097 ps : energy   201.176819 kJ/mol\n",
      "   0.116 ps : energy    65.066917 kJ/mol\n",
      "   0.136 ps : energy     1.526111 kJ/mol\n",
      "   0.155 ps : energy   100.990929 kJ/mol\n",
      "   0.175 ps : energy   221.894882 kJ/mol\n"
     ]
    }
   ],
   "source": [
    "total_iterations = factor \n",
    "for iteration in range(total_iterations):\n",
    "    state = context.getState(getEnergy=True,getPositions=True)   \n",
    "    print('%8.3f ps : energy %12.6f kJ/mol' % (state.getTime() / unit.picoseconds, state.getPotentialEnergy() / unit.kilojoule_per_mole))\n",
    "    integrator.step(1)\n"
   ]
  },
  {
   "cell_type": "markdown",
   "metadata": {},
   "source": [
    "Let´s look at the force after one period of oscilation"
   ]
  },
  {
   "cell_type": "code",
   "execution_count": 30,
   "metadata": {},
   "outputs": [],
   "source": [
    "del context, integrator\n",
    "factor = 10\n",
    "timestep = T / factor\n",
    "integrator = openmm.VerletIntegrator(timestep)\n",
    "position = [[0.1 * unit.nanometer, 0., 0.]]\n",
    "context = openmm.Context(Ho_1.system,integrator)\n",
    "context.setPositions(position)"
   ]
  },
  {
   "cell_type": "code",
   "execution_count": 31,
   "metadata": {},
   "outputs": [
    {
     "name": "stdout",
     "output_type": "stream",
     "text": [
      "   0.000 ps : position -4184.000000 kJ/mol/nm\n",
      "   0.019 ps : position -2532.222656 kJ/mol/nm\n",
      "   0.039 ps : position   119.235886 kJ/mol/nm\n",
      "   0.058 ps : position  2723.622070 kJ/mol/nm\n",
      "   0.078 ps : position  4252.765625 kJ/mol/nm\n",
      "   0.097 ps : position  4102.983887 kJ/mol/nm\n",
      "   0.116 ps : position  2333.409424 kJ/mol/nm\n",
      "   0.136 ps : position  -357.358368 kJ/mol/nm\n",
      "   0.155 ps : position -2907.046631 kJ/mol/nm\n",
      "   0.175 ps : position -4309.079102 kJ/mol/nm\n"
     ]
    }
   ],
   "source": [
    "total_iterations = factor\n",
    "for iteration in range(total_iterations):\n",
    "    state = context.getState(getEnergy=True,getForces=True)   \n",
    "    print('%8.3f ps : position %12.6f kJ/mol/nm' % (state.getTime() / unit.picoseconds, state.getForces()[0][0] / unit.kilojoule_per_mole *unit.nanometer))\n",
    "    integrator.step(1)"
   ]
  },
  {
   "cell_type": "markdown",
   "metadata": {},
   "source": [
    "Store the position, forces and energy in arrays to analyze them"
   ]
  },
  {
   "cell_type": "code",
   "execution_count": 32,
   "metadata": {},
   "outputs": [],
   "source": [
    "del context, integrator\n",
    "factor = 10\n",
    "timestep = T / factor\n",
    "integrator = openmm.VerletIntegrator(timestep)\n",
    "position = [[0.1 * unit.nanometer, 0., 0.]]\n",
    "context = openmm.Context(Ho_1.system,integrator)\n",
    "context.setPositions(position)"
   ]
  },
  {
   "cell_type": "code",
   "execution_count": 33,
   "metadata": {},
   "outputs": [],
   "source": [
    "time = []\n",
    "positions = []\n",
    "energy = []\n",
    "forces = []\n",
    "total_iterations = factor\n",
    "for iteration in range(total_iterations):\n",
    "    state = context.getState(getEnergy=True,getPositions=True, getForces=True)\n",
    "    time.append(state.getTime() / unit.picoseconds)\n",
    "    position = (state.getPositions(asNumpy=True) / unit.nanometer)\n",
    "    positions.append(position[0][0])\n",
    "    force = (state.getForces(asNumpy=True) / unit.kilojoule_per_mole * unit.nanometer)\n",
    "    forces.append(force[0][0])\n",
    "    energy.append(state.getPotentialEnergy() / unit.kilojoule_per_mole)\n",
    "    integrator.step(1)"
   ]
  },
  {
   "cell_type": "markdown",
   "metadata": {},
   "source": [
    "Let´s plot the position as function of time"
   ]
  },
  {
   "cell_type": "code",
   "execution_count": 34,
   "metadata": {},
   "outputs": [
    {
     "data": {
      "text/plain": [
       "[<matplotlib.lines.Line2D at 0x120617668>]"
      ]
     },
     "execution_count": 34,
     "metadata": {},
     "output_type": "execute_result"
    },
    {
     "data": {
      "image/png": "[encoded data removed]",
      "text/plain": [
       "<Figure size 432x288 with 1 Axes>"
      ]
     },
     "metadata": {
      "needs_background": "light"
     },
     "output_type": "display_data"
    }
   ],
   "source": [
    "plt.plot(time,positions)"
   ]
  },
  {
   "cell_type": "markdown",
   "metadata": {},
   "source": [
    "Now let´s plot the potential energy"
   ]
  },
  {
   "cell_type": "code",
   "execution_count": 35,
   "metadata": {},
   "outputs": [
    {
     "data": {
      "text/plain": [
       "[<matplotlib.lines.Line2D at 0x1206ae5c0>]"
      ]
     },
     "execution_count": 35,
     "metadata": {},
     "output_type": "execute_result"
    },
    {
     "data": {
      "image/png": "[encoded data removed]",
      "text/plain": [
       "<Figure size 432x288 with 1 Axes>"
      ]
     },
     "metadata": {
      "needs_background": "light"
     },
     "output_type": "display_data"
    }
   ],
   "source": [
    "plt.plot(time,energy)"
   ]
  },
  {
   "cell_type": "markdown",
   "metadata": {},
   "source": [
    "Plot the force as fucntion of time"
   ]
  },
  {
   "cell_type": "code",
   "execution_count": 36,
   "metadata": {},
   "outputs": [
    {
     "data": {
      "text/plain": [
       "[<matplotlib.lines.Line2D at 0x1209c0278>]"
      ]
     },
     "execution_count": 36,
     "metadata": {},
     "output_type": "execute_result"
    },
    {
     "data": {
      "image/png": "[encoded data removed]",
      "text/plain": [
       "<Figure size 432x288 with 1 Axes>"
      ]
     },
     "metadata": {
      "needs_background": "light"
     },
     "output_type": "display_data"
    }
   ],
   "source": [
    "plt.plot(time,forces)"
   ]
  },
  {
   "cell_type": "markdown",
   "metadata": {},
   "source": [
    "After one period the forces should be zero if the integration is done correctly."
   ]
  },
  {
   "cell_type": "code",
   "execution_count": 41,
   "metadata": {},
   "outputs": [
    {
     "data": {
      "text/plain": [
       "(-757.68986511230469, -4184.0)"
      ]
     },
     "execution_count": 41,
     "metadata": {},
     "output_type": "execute_result"
    }
   ],
   "source": [
    "sum(forces), forces[0]"
   ]
  },
  {
   "cell_type": "markdown",
   "metadata": {},
   "source": [
    "Go back and change the value of factor until the sum is close to zero.\n",
    "\n",
    "Why can´t you reach zero?"
   ]
  },
  {
   "cell_type": "code",
   "execution_count": null,
   "metadata": {
    "collapsed": true
   },
   "outputs": [],
   "source": []
  }
 ],
 "metadata": {
  "kernelspec": {
   "display_name": "Python 3",
   "language": "python",
   "name": "python3"
  },
  "language_info": {
   "codemirror_mode": {
    "name": "ipython",
    "version": 3
   },
   "file_extension": ".py",
   "mimetype": "text/x-python",
   "name": "python",
   "nbconvert_exporter": "python",
   "pygments_lexer": "ipython3",
   "version": "3.6.7"
  }
 },
 "nbformat": 4,
 "nbformat_minor": 2
}
