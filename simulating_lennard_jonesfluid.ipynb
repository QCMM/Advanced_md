{
 "cells": [
  {
   "cell_type": "markdown",
   "metadata": {},
   "source": [
    "# Simulating an Lennard Jones fluid in OpenMM"
   ]
  },
  {
   "cell_type": "markdown",
   "metadata": {},
   "source": [
    "## Preliminaries\n",
    "\n",
    "First, we import OpenMM. It's recommended that you always import this way:"
   ]
  },
  {
   "cell_type": "code",
   "execution_count": 1,
   "metadata": {},
   "outputs": [],
   "source": [
    "from simtk import openmm, unit\n",
    "from simtk.openmm import app\n",
    "import numpy as np"
   ]
  },
  {
   "cell_type": "code",
   "execution_count": 2,
   "metadata": {},
   "outputs": [],
   "source": [
    "# Create a Lennard-Jones fluid\n",
    "pressure = 1*unit.atmospheres\n",
    "temperature = 120*unit.kelvin\n",
    "collision_rate = 5/unit.picoseconds\n",
    "timestep = 2.5*unit.femtoseconds\n",
    "from openmmtools.testsystems import LennardJonesFluid\n",
    "sigma = 3.4*unit.angstrom; epsilon = 0.238 * unit.kilocalories_per_mole\n",
    "fluid = LennardJonesFluid(sigma=sigma, epsilon=epsilon)\n",
    "[topology, system, positions] = [fluid.topology, fluid.system, fluid.positions]"
   ]
  },
  {
   "cell_type": "code",
   "execution_count": 3,
   "metadata": {},
   "outputs": [
    {
     "data": {
      "text/plain": [
       "1"
      ]
     },
     "execution_count": 3,
     "metadata": {},
     "output_type": "execute_result"
    }
   ],
   "source": [
    "# Add a barostat\n",
    "barostat = openmm.MonteCarloBarostat(pressure, temperature)\n",
    "system.addForce(barostat)"
   ]
  },
  {
   "cell_type": "code",
   "execution_count": 4,
   "metadata": {},
   "outputs": [
    {
     "name": "stdout",
     "output_type": "stream",
     "text": [
      "Minimizing energy...\n"
     ]
    }
   ],
   "source": [
    "# Create a context\n",
    "integrator = openmm.LangevinIntegrator(temperature, collision_rate, timestep)\n",
    "context = openmm.Context(system, integrator)\n",
    "context.setPositions(positions)\n",
    "\n",
    "# Minimize energy\n",
    "print('Minimizing energy...')\n",
    "openmm.LocalEnergyMinimizer.minimize(context)"
   ]
  },
  {
   "cell_type": "code",
   "execution_count": 5,
   "metadata": {},
   "outputs": [],
   "source": [
    "# Collect data\n",
    "nsteps = 100 # number of steps per sample\n",
    "niterations = 500 # number of samples to collect per alchemical state\n"
   ]
  },
  {
   "cell_type": "code",
   "execution_count": 6,
   "metadata": {},
   "outputs": [],
   "source": [
    "u = np.zeros(niterations, np.float64)\n",
    "kT = unit.AVOGADRO_CONSTANT_NA * unit.BOLTZMANN_CONSTANT_kB * integrator.getTemperature()\n",
    "for iteration in range(niterations):\n",
    "        # print('iteration  %5d' % (iteration))\n",
    "        # Run some dynamics\n",
    "        integrator.step(nsteps)\n",
    "        # Compute energies at all alchemical states\n",
    "        u[iteration] = context.getState(getEnergy=True).getPotentialEnergy() / kT"
   ]
  },
  {
   "cell_type": "markdown",
   "metadata": {
    "collapsed": true
   },
   "source": [
    "Let´s plot the energy"
   ]
  },
  {
   "cell_type": "code",
   "execution_count": 7,
   "metadata": {},
   "outputs": [],
   "source": [
    "import matplotlib.pyplot as plt\n",
    "%matplotlib inline"
   ]
  },
  {
   "cell_type": "code",
   "execution_count": 8,
   "metadata": {},
   "outputs": [
    {
     "data": {
      "text/plain": [
       "[<matplotlib.lines.Line2D at 0x11cc95710>]"
      ]
     },
     "execution_count": 8,
     "metadata": {},
     "output_type": "execute_result"
    },
    {
     "data": {
      "image/png": "[encoded data removed]",
      "text/plain": [
       "<Figure size 432x288 with 1 Axes>"
      ]
     },
     "metadata": {
      "needs_background": "light"
     },
     "output_type": "display_data"
    }
   ],
   "source": [
    "plt.plot(u)"
   ]
  },
  {
   "cell_type": "markdown",
   "metadata": {},
   "source": [
    "Let´s start a new simulation "
   ]
  },
  {
   "cell_type": "code",
   "execution_count": 9,
   "metadata": {},
   "outputs": [],
   "source": [
    "del context, integrator"
   ]
  },
  {
   "cell_type": "code",
   "execution_count": 10,
   "metadata": {},
   "outputs": [
    {
     "name": "stdout",
     "output_type": "stream",
     "text": [
      "Minimizing energy...\n"
     ]
    }
   ],
   "source": [
    "integrator = openmm.LangevinIntegrator(temperature, collision_rate, timestep)\n",
    "context = openmm.Context(system, integrator)\n",
    "context.setPositions(positions)\n",
    "\n",
    "# Minimize energy\n",
    "print('Minimizing energy...')\n",
    "openmm.LocalEnergyMinimizer.minimize(context)"
   ]
  },
  {
   "cell_type": "code",
   "execution_count": 11,
   "metadata": {},
   "outputs": [],
   "source": [
    "# Set velocities from Maxwell-Boltzmann distribution\n",
    "context.setVelocitiesToTemperature(temperature)"
   ]
  },
  {
   "cell_type": "code",
   "execution_count": 12,
   "metadata": {},
   "outputs": [],
   "source": [
    "u = np.zeros(niterations, np.float64)\n",
    "kT = unit.AVOGADRO_CONSTANT_NA * unit.BOLTZMANN_CONSTANT_kB * integrator.getTemperature()\n",
    "for iteration in range(niterations):\n",
    "        # print('iteration  %5d' % (iteration))\n",
    "        # Run some dynamics\n",
    "        integrator.step(nsteps)\n",
    "        # Compute energies at all alchemical states\n",
    "        u[iteration] = context.getState(getEnergy=True).getPotentialEnergy() / kT"
   ]
  },
  {
   "cell_type": "code",
   "execution_count": 13,
   "metadata": {},
   "outputs": [
    {
     "data": {
      "text/plain": [
       "[<matplotlib.lines.Line2D at 0x11a408898>]"
      ]
     },
     "execution_count": 13,
     "metadata": {},
     "output_type": "execute_result"
    },
    {
     "data": {
      "image/png": "[encoded data removed]",
      "text/plain": [
       "<Figure size 432x288 with 1 Axes>"
      ]
     },
     "metadata": {
      "needs_background": "light"
     },
     "output_type": "display_data"
    }
   ],
   "source": [
    "plt.plot(u)"
   ]
  },
  {
   "cell_type": "markdown",
   "metadata": {},
   "source": [
    "## The `Simulation` convenience class\n",
    "\n",
    "While we could write our own wrapper to run a simulation and write data to disk, OpenMM's [`app` layer](http://docs.openmm.org/7.1.0/api-python/app.html) provides the [`Simulation` class](http://docs.openmm.org/7.1.0/api-python/generated/simtk.openmm.app.simulation.Simulation.html#simtk.openmm.app.simulation.Simulation) to help you do this using a modular Python-based plugin architecture to specify which and how data should be stored. The [user guide](http://docs.openmm.org/7.1.0/userguide/application.html#a-first-example) provides a nice overview of this.\n",
    "\n",
    "### Running a `Simulation` that writes data to the terminal\n",
    "\n",
    "For example, to run a simulation that prints data to the terminal, we can use:"
   ]
  },
  {
   "cell_type": "code",
   "execution_count": 14,
   "metadata": {
    "scrolled": true
   },
   "outputs": [
    {
     "name": "stdout",
     "output_type": "stream",
     "text": [
      "#\"Step\",\"Potential Energy (kJ/mole)\",\"Temperature (K)\"\n",
      "100,-186.35155552554292,110.76428629086796\n",
      "200,-192.47534271631528,121.45132722071008\n",
      "300,-203.05632052285395,116.28342343530939\n",
      "400,-207.90881649186022,123.17014476740628\n",
      "500,-212.1704409200524,123.22186086328715\n",
      "600,-211.79340575002428,121.82343697551995\n",
      "700,-220.0753890538563,117.73320357083048\n",
      "800,-218.1226507282132,124.23465204079078\n",
      "900,-223.324925918093,118.11461152889896\n",
      "1000,-223.45900545790877,118.11932116846958\n"
     ]
    }
   ],
   "source": [
    "from sys import stdout\n",
    "integrator = openmm.LangevinIntegrator(temperature, collision_rate, timestep)\n",
    "simulation = app.Simulation(topology, system, integrator)\n",
    "simulation.context.setPositions(positions)\n",
    "simulation.minimizeEnergy()\n",
    "simulation.reporters.append(app.StateDataReporter(stdout, 100, step=True, potentialEnergy=True, temperature=True))\n",
    "simulation.step(1000)"
   ]
  },
  {
   "cell_type": "markdown",
   "metadata": {},
   "source": [
    "### Running a `Simulation` that writes a trajectory to disk\n",
    "\n",
    "For example, to run a simulation that writes data in the extensible MDTraj HDF5 format, Amber NetCDF format, or CHARMM DCD format, we can use the [MDTraj Reporters](http://mdtraj.org/1.6.2/api/reporters.html):"
   ]
  },
  {
   "cell_type": "code",
   "execution_count": 15,
   "metadata": {},
   "outputs": [
    {
     "name": "stderr",
     "output_type": "stream",
     "text": [
      "/Users/evohringer/anaconda/envs/openmmtools/lib/python3.6/site-packages/mdtraj/utils/validation.py:116: TypeCastPerformanceWarning: Casting xyz dtype=float64 to <class 'numpy.float32'> \n",
      "  TypeCastPerformanceWarning)\n"
     ]
    }
   ],
   "source": [
    "import mdtraj\n",
    "integrator = openmm.LangevinIntegrator(temperature, collision_rate, timestep)\n",
    "simulation = app.Simulation(topology, system, integrator)\n",
    "simulation.context.setPositions(positions)\n",
    "simulation.minimizeEnergy()\n",
    "reportInterval = 100\n",
    "simulation.reporters.append(mdtraj.reporters.HDF5Reporter('output.h5', reportInterval, coordinates=True, time=True, cell=True, potentialEnergy=True, temperature=True))\n",
    "simulation.reporters.append(mdtraj.reporters.DCDReporter('output.dcd', reportInterval))\n",
    "simulation.reporters.append(mdtraj.reporters.NetCDFReporter('output.nc', reportInterval))\n",
    "simulation.step(200000)\n",
    "del simulation # Make sure to close all files"
   ]
  },
  {
   "cell_type": "code",
   "execution_count": 16,
   "metadata": {},
   "outputs": [
    {
     "data": {
      "application/vnd.jupyter.widget-view+json": {
       "model_id": "cbd46fe114544f52ad63fd45e377c10a",
       "version_major": 2,
       "version_minor": 0
      },
      "text/plain": [
       "_ColormakerRegistry()"
      ]
     },
     "metadata": {},
     "output_type": "display_data"
    },
    {
     "data": {
      "application/vnd.jupyter.widget-view+json": {
       "model_id": "fbda6cd94c24425a882ce784aea3cf5e",
       "version_major": 2,
       "version_minor": 0
      },
      "text/plain": [
       "NGLWidget(max_frame=1999)"
      ]
     },
     "metadata": {},
     "output_type": "display_data"
    }
   ],
   "source": [
    "traj = mdtraj.load('output.h5', 'r')\n",
    "import nglview\n",
    "view = nglview.show_mdtraj(traj)\n",
    "view.add_ball_and_stick('all')\n",
    "view.center()\n",
    "view"
   ]
  },
  {
   "cell_type": "code",
   "execution_count": 38,
   "metadata": {},
   "outputs": [],
   "source": [
    "top = mdtraj.Topology.from_openmm(topology)\n",
    "traj = mdtraj.load('output.nc',top=top)"
   ]
  },
  {
   "cell_type": "code",
   "execution_count": 34,
   "metadata": {},
   "outputs": [
    {
     "ename": "ValueError",
     "evalue": "This Trajectory does not define a periodic unit cell",
     "output_type": "error",
     "traceback": [
      "\u001b[0;31m---------------------------------------------------------------------------\u001b[0m",
      "\u001b[0;31mValueError\u001b[0m                                Traceback (most recent call last)",
      "\u001b[0;32m<ipython-input-34-dd1def940ea0>\u001b[0m in \u001b[0;36m<module>\u001b[0;34m\u001b[0m\n\u001b[0;32m----> 1\u001b[0;31m \u001b[0mtop\u001b[0m\u001b[0;34m.\u001b[0m\u001b[0mimage_molecules\u001b[0m\u001b[0;34m(\u001b[0m\u001b[0;34m)\u001b[0m\u001b[0;34m\u001b[0m\u001b[0;34m\u001b[0m\u001b[0m\n\u001b[0m",
      "\u001b[0;32m~/anaconda/envs/openmmtools/lib/python3.6/site-packages/mdtraj/core/trajectory.py\u001b[0m in \u001b[0;36mimage_molecules\u001b[0;34m(self, inplace, anchor_molecules, other_molecules, sorted_bonds, make_whole)\u001b[0m\n\u001b[1;32m   1944\u001b[0m         \u001b[0munitcell_vectors\u001b[0m \u001b[0;34m=\u001b[0m \u001b[0mself\u001b[0m\u001b[0;34m.\u001b[0m\u001b[0munitcell_vectors\u001b[0m\u001b[0;34m\u001b[0m\u001b[0;34m\u001b[0m\u001b[0m\n\u001b[1;32m   1945\u001b[0m         \u001b[0;32mif\u001b[0m \u001b[0munitcell_vectors\u001b[0m \u001b[0;32mis\u001b[0m \u001b[0;32mNone\u001b[0m\u001b[0;34m:\u001b[0m\u001b[0;34m\u001b[0m\u001b[0;34m\u001b[0m\u001b[0m\n\u001b[0;32m-> 1946\u001b[0;31m             \u001b[0;32mraise\u001b[0m \u001b[0mValueError\u001b[0m\u001b[0;34m(\u001b[0m\u001b[0;34m'This Trajectory does not define a periodic unit cell'\u001b[0m\u001b[0;34m)\u001b[0m\u001b[0;34m\u001b[0m\u001b[0;34m\u001b[0m\u001b[0m\n\u001b[0m\u001b[1;32m   1947\u001b[0m \u001b[0;34m\u001b[0m\u001b[0m\n\u001b[1;32m   1948\u001b[0m         \u001b[0;32mif\u001b[0m \u001b[0manchor_molecules\u001b[0m \u001b[0;32mis\u001b[0m \u001b[0;32mNone\u001b[0m\u001b[0;34m:\u001b[0m\u001b[0;34m\u001b[0m\u001b[0;34m\u001b[0m\u001b[0m\n",
      "\u001b[0;31mValueError\u001b[0m: This Trajectory does not define a periodic unit cell"
     ]
    }
   ],
   "source": [
    "top.image_molecules()"
   ]
  },
  {
   "cell_type": "code",
   "execution_count": 17,
   "metadata": {},
   "outputs": [
    {
     "ename": "TypeError",
     "evalue": "unsupported operand type(s) for /: 'float' and 'NoneType'",
     "output_type": "error",
     "traceback": [
      "\u001b[0;31m---------------------------------------------------------------------------\u001b[0m",
      "\u001b[0;31mTypeError\u001b[0m                                 Traceback (most recent call last)",
      "\u001b[0;32m<ipython-input-17-ade29b3f7bf7>\u001b[0m in \u001b[0;36m<module>\u001b[0;34m\u001b[0m\n\u001b[1;32m      3\u001b[0m \u001b[0matom2\u001b[0m \u001b[0;34m=\u001b[0m \u001b[0mtraj\u001b[0m\u001b[0;34m.\u001b[0m\u001b[0mtopology\u001b[0m\u001b[0;34m.\u001b[0m\u001b[0mselect\u001b[0m\u001b[0;34m(\u001b[0m\u001b[0;34m'all'\u001b[0m\u001b[0;34m)\u001b[0m\u001b[0;34m\u001b[0m\u001b[0;34m\u001b[0m\u001b[0m\n\u001b[1;32m      4\u001b[0m \u001b[0mpairs\u001b[0m \u001b[0;34m=\u001b[0m \u001b[0mlist\u001b[0m\u001b[0;34m(\u001b[0m\u001b[0mitertools\u001b[0m\u001b[0;34m.\u001b[0m\u001b[0mproduct\u001b[0m\u001b[0;34m(\u001b[0m\u001b[0matom1\u001b[0m\u001b[0;34m,\u001b[0m \u001b[0matom2\u001b[0m\u001b[0;34m)\u001b[0m\u001b[0;34m)\u001b[0m\u001b[0;34m\u001b[0m\u001b[0;34m\u001b[0m\u001b[0m\n\u001b[0;32m----> 5\u001b[0;31m \u001b[0mmdtraj\u001b[0m\u001b[0;34m.\u001b[0m\u001b[0mcompute_rdf\u001b[0m\u001b[0;34m(\u001b[0m\u001b[0mtraj\u001b[0m\u001b[0;34m,\u001b[0m\u001b[0mpairs\u001b[0m\u001b[0;34m)\u001b[0m\u001b[0;34m\u001b[0m\u001b[0;34m\u001b[0m\u001b[0m\n\u001b[0m",
      "\u001b[0;32m~/anaconda/envs/openmmtools/lib/python3.6/site-packages/mdtraj/geometry/rdf.py\u001b[0m in \u001b[0;36mcompute_rdf\u001b[0;34m(traj, pairs, r_range, bin_width, n_bins, periodic, opt)\u001b[0m\n\u001b[1;32m     89\u001b[0m     \u001b[0;31m# AmberTools' cpptraj and gromacs g_rdf.\u001b[0m\u001b[0;34m\u001b[0m\u001b[0;34m\u001b[0m\u001b[0;34m\u001b[0m\u001b[0m\n\u001b[1;32m     90\u001b[0m     \u001b[0mV\u001b[0m \u001b[0;34m=\u001b[0m \u001b[0;34m(\u001b[0m\u001b[0;36m4\u001b[0m \u001b[0;34m/\u001b[0m \u001b[0;36m3\u001b[0m\u001b[0;34m)\u001b[0m \u001b[0;34m*\u001b[0m \u001b[0mnp\u001b[0m\u001b[0;34m.\u001b[0m\u001b[0mpi\u001b[0m \u001b[0;34m*\u001b[0m \u001b[0;34m(\u001b[0m\u001b[0mnp\u001b[0m\u001b[0;34m.\u001b[0m\u001b[0mpower\u001b[0m\u001b[0;34m(\u001b[0m\u001b[0medges\u001b[0m\u001b[0;34m[\u001b[0m\u001b[0;36m1\u001b[0m\u001b[0;34m:\u001b[0m\u001b[0;34m]\u001b[0m\u001b[0;34m,\u001b[0m \u001b[0;36m3\u001b[0m\u001b[0;34m)\u001b[0m \u001b[0;34m-\u001b[0m \u001b[0mnp\u001b[0m\u001b[0;34m.\u001b[0m\u001b[0mpower\u001b[0m\u001b[0;34m(\u001b[0m\u001b[0medges\u001b[0m\u001b[0;34m[\u001b[0m\u001b[0;34m:\u001b[0m\u001b[0;34m-\u001b[0m\u001b[0;36m1\u001b[0m\u001b[0;34m]\u001b[0m\u001b[0;34m,\u001b[0m \u001b[0;36m3\u001b[0m\u001b[0;34m)\u001b[0m\u001b[0;34m)\u001b[0m\u001b[0;34m\u001b[0m\u001b[0;34m\u001b[0m\u001b[0m\n\u001b[0;32m---> 91\u001b[0;31m     \u001b[0mnorm\u001b[0m \u001b[0;34m=\u001b[0m \u001b[0mlen\u001b[0m\u001b[0;34m(\u001b[0m\u001b[0mpairs\u001b[0m\u001b[0;34m)\u001b[0m \u001b[0;34m*\u001b[0m \u001b[0mnp\u001b[0m\u001b[0;34m.\u001b[0m\u001b[0msum\u001b[0m\u001b[0;34m(\u001b[0m\u001b[0;36m1.0\u001b[0m \u001b[0;34m/\u001b[0m \u001b[0mtraj\u001b[0m\u001b[0;34m.\u001b[0m\u001b[0munitcell_volumes\u001b[0m\u001b[0;34m)\u001b[0m \u001b[0;34m*\u001b[0m \u001b[0mV\u001b[0m\u001b[0;34m\u001b[0m\u001b[0;34m\u001b[0m\u001b[0m\n\u001b[0m\u001b[1;32m     92\u001b[0m     \u001b[0mg_r\u001b[0m \u001b[0;34m=\u001b[0m \u001b[0mg_r\u001b[0m\u001b[0;34m.\u001b[0m\u001b[0mastype\u001b[0m\u001b[0;34m(\u001b[0m\u001b[0mnp\u001b[0m\u001b[0;34m.\u001b[0m\u001b[0mfloat64\u001b[0m\u001b[0;34m)\u001b[0m \u001b[0;34m/\u001b[0m \u001b[0mnorm\u001b[0m  \u001b[0;31m# From int64.\u001b[0m\u001b[0;34m\u001b[0m\u001b[0;34m\u001b[0m\u001b[0m\n\u001b[1;32m     93\u001b[0m     \u001b[0;32mreturn\u001b[0m \u001b[0mr\u001b[0m\u001b[0;34m,\u001b[0m \u001b[0mg_r\u001b[0m\u001b[0;34m\u001b[0m\u001b[0;34m\u001b[0m\u001b[0m\n",
      "\u001b[0;31mTypeError\u001b[0m: unsupported operand type(s) for /: 'float' and 'NoneType'"
     ]
    }
   ],
   "source": [
    "import itertools\n",
    "atom1 = traj.topology.select('all')\n",
    "atom2 = traj.topology.select('all')\n",
    "pairs = list(itertools.product(atom1, atom2))\n",
    "mdtraj.compute_rdf(traj,pairs)"
   ]
  },
  {
   "cell_type": "code",
   "execution_count": 59,
   "metadata": {},
   "outputs": [
    {
     "ename": "TypeError",
     "evalue": "'NoneType' object is not callable",
     "output_type": "error",
     "traceback": [
      "\u001b[0;31m---------------------------------------------------------------------------\u001b[0m",
      "\u001b[0;31mTypeError\u001b[0m                                 Traceback (most recent call last)",
      "\u001b[0;32m<ipython-input-59-dc3f38201899>\u001b[0m in \u001b[0;36m<module>\u001b[0;34m()\u001b[0m\n\u001b[0;32m----> 1\u001b[0;31m \u001b[0mtraj\u001b[0m\u001b[0;34m.\u001b[0m\u001b[0munitcell_volumes\u001b[0m\u001b[0;34m(\u001b[0m\u001b[0;36m1\u001b[0m\u001b[0;34m)\u001b[0m\u001b[0;34m\u001b[0m\u001b[0m\n\u001b[0m",
      "\u001b[0;31mTypeError\u001b[0m: 'NoneType' object is not callable"
     ]
    }
   ],
   "source": [
    "traj.unitcell_volumes("
   ]
  },
  {
   "cell_type": "code",
   "execution_count": null,
   "metadata": {
    "collapsed": true
   },
   "outputs": [],
   "source": []
  }
 ],
 "metadata": {
  "kernelspec": {
   "display_name": "Python 3",
   "language": "python",
   "name": "python3"
  },
  "language_info": {
   "codemirror_mode": {
    "name": "ipython",
    "version": 3
   },
   "file_extension": ".py",
   "mimetype": "text/x-python",
   "name": "python",
   "nbconvert_exporter": "python",
   "pygments_lexer": "ipython3",
   "version": "3.6.7"
  },
  "widgets": {
   "application/vnd.jupyter.widget-state+json": {
    "state": {
     "00a80b0fa531413cafdb96f6024bcb9a": {
      "model_module": "jupyter-js-widgets",
      "model_module_version": "~2.1.4",
      "model_name": "ImageModel",
      "state": {
       "_model_module_version": "~2.1.4",
       "_view_module_version": "~2.1.4",
       "layout": "IPY_MODEL_e4874c9fcce5457ebe368f716486e496",
       "width": "900.0"
      }
     },
     "010cf2d56d23430894355065c6fff727": {
      "model_module": "jupyter-js-widgets",
      "model_module_version": "~2.1.4",
      "model_name": "ImageModel",
      "state": {
       "_model_module_version": "~2.1.4",
       "_view_module_version": "~2.1.4",
       "layout": "IPY_MODEL_380050d3192e4f4b99e2b861c066b3d5",
       "width": "900.0"
      }
     },
     "0388565b6dfc4452bc9ff64d7c82da1f": {
      "model_module": "jupyter-js-widgets",
      "model_module_version": "~2.1.4",
      "model_name": "ImageModel",
      "state": {
       "_model_module_version": "~2.1.4",
       "_view_module_version": "~2.1.4",
       "layout": "IPY_MODEL_f6afd199ec3c456398ca5cd35da333e1",
       "width": "900.0"
      }
     },
     "05086198de0840d3ac98c2bd89f7260b": {
      "model_module": "jupyter-js-widgets",
      "model_module_version": "~2.1.4",
      "model_name": "ImageModel",
      "state": {
       "_model_module_version": "~2.1.4",
       "_view_module_version": "~2.1.4",
       "layout": "IPY_MODEL_c7364480a1644d58a2bebc38a1e0fb4c",
       "width": "900.0"
      }
     },
     "063f9430d8424354b09818d5c5f61c75": {
      "model_module": "jupyter-js-widgets",
      "model_module_version": "~2.1.4",
      "model_name": "LayoutModel",
      "state": {
       "_model_module_version": "~2.1.4",
       "_view_module_version": "~2.1.4"
      }
     },
     "06c06380f7cb43068ffe173cc67b054e": {
      "model_module": "jupyter-js-widgets",
      "model_module_version": "~2.1.4",
      "model_name": "LayoutModel",
      "state": {
       "_model_module_version": "~2.1.4",
       "_view_module_version": "~2.1.4"
      }
     },
     "146c18a2608e4971a1c8aab11498e012": {
      "model_module": "jupyter-js-widgets",
      "model_module_version": "~2.1.4",
      "model_name": "LayoutModel",
      "state": {
       "_model_module_version": "~2.1.4",
       "_view_module_version": "~2.1.4"
      }
     },
     "160698ef9d664b8580b9524b40c18121": {
      "model_module": "jupyter-js-widgets",
      "model_module_version": "~2.1.4",
      "model_name": "LayoutModel",
      "state": {
       "_model_module_version": "~2.1.4",
       "_view_module_version": "~2.1.4"
      }
     },
     "176b982339cb4ed8a2bf63158ae3eadf": {
      "model_module": "jupyter-js-widgets",
      "model_module_version": "*",
      "model_name": "DOMWidgetModel",
      "state": {
       "_camera_str": "orthographic",
       "_full_stage_parameters": {
        "ambientColor": 14540253,
        "ambientIntensity": 0.2,
        "backgroundColor": "white",
        "cameraFov": 40,
        "cameraType": "perspective",
        "clipDist": 10,
        "clipFar": 100,
        "clipNear": 0,
        "fogFar": 100,
        "fogNear": 50,
        "hoverTimeout": 500,
        "impostor": true,
        "lightColor": 14540253,
        "lightIntensity": 1,
        "panSpeed": 0.8,
        "quality": "medium",
        "rotateSpeed": 2,
        "sampleLevel": 0,
        "zoomSpeed": 1.2
       },
       "_image_data": "",
       "_model_name": "DOMWidgetModel",
       "_n_dragged_files": 0,
       "_original_stage_parameters": {
        "ambientColor": 14540253,
        "ambientIntensity": 0.2,
        "backgroundColor": "white",
        "cameraFov": 40,
        "cameraType": "perspective",
        "clipDist": 10,
        "clipFar": 100,
        "clipNear": 0,
        "fogFar": 100,
        "fogNear": 50,
        "hoverTimeout": 500,
        "impostor": true,
        "lightColor": 14540253,
        "lightIntensity": 1,
        "panSpeed": 0.8,
        "quality": "medium",
        "rotateSpeed": 2,
        "sampleLevel": 0,
        "zoomSpeed": 1.2
       },
       "_view_module": "nglview-js-widgets",
       "_view_name": "NGLView",
       "background": "white",
       "count": 1,
       "frame": 0,
       "layout": "IPY_MODEL_4a7bcaf30e78428aa3c284d2e36bf9f6",
       "n_components": 1,
       "orientation": [],
       "picked": {}
      }
     },
     "1993509e835247aca1b915862731383c": {
      "model_module": "jupyter-js-widgets",
      "model_module_version": "*",
      "model_name": "DOMWidgetModel",
      "state": {
       "_camera_str": "orthographic",
       "_full_stage_parameters": {
        "ambientColor": 14540253,
        "ambientIntensity": 0.2,
        "backgroundColor": "white",
        "cameraFov": 40,
        "cameraType": "perspective",
        "clipDist": 10,
        "clipFar": 100,
        "clipNear": 0,
        "fogFar": 100,
        "fogNear": 50,
        "hoverTimeout": 500,
        "impostor": true,
        "lightColor": 14540253,
        "lightIntensity": 1,
        "panSpeed": 0.8,
        "quality": "medium",
        "rotateSpeed": 2,
        "sampleLevel": 0,
        "zoomSpeed": 1.2
       },
       "_image_data": "",
       "_model_name": "DOMWidgetModel",
       "_n_dragged_files": 0,
       "_original_stage_parameters": {
        "ambientColor": 14540253,
        "ambientIntensity": 0.2,
        "backgroundColor": "white",
        "cameraFov": 40,
        "cameraType": "perspective",
        "clipDist": 10,
        "clipFar": 100,
        "clipNear": 0,
        "fogFar": 100,
        "fogNear": 50,
        "hoverTimeout": 500,
        "impostor": true,
        "lightColor": 14540253,
        "lightIntensity": 1,
        "panSpeed": 0.8,
        "quality": "medium",
        "rotateSpeed": 2,
        "sampleLevel": 0,
        "zoomSpeed": 1.2
       },
       "_view_module": "nglview-js-widgets",
       "_view_name": "NGLView",
       "background": "white",
       "count": 1,
       "frame": 0,
       "layout": "IPY_MODEL_e09d49d6f5ef43e985725cc4dad2d05c",
       "n_components": 1,
       "orientation": [],
       "picked": {}
      }
     },
     "29b5e393d10b42858ef0c8a18ea0a172": {
      "model_module": "jupyter-js-widgets",
      "model_module_version": "*",
      "model_name": "DOMWidgetModel",
      "state": {
       "_camera_str": "orthographic",
       "_full_stage_parameters": {
        "ambientColor": 14540253,
        "ambientIntensity": 0.2,
        "backgroundColor": "white",
        "cameraFov": 40,
        "cameraType": "perspective",
        "clipDist": 10,
        "clipFar": 100,
        "clipNear": 0,
        "fogFar": 100,
        "fogNear": 50,
        "hoverTimeout": 500,
        "impostor": true,
        "lightColor": 14540253,
        "lightIntensity": 1,
        "panSpeed": 0.8,
        "quality": "medium",
        "rotateSpeed": 2,
        "sampleLevel": 0,
        "zoomSpeed": 1.2
       },
       "_image_data": "",
       "_model_name": "DOMWidgetModel",
       "_n_dragged_files": 0,
       "_original_stage_parameters": {
        "ambientColor": 14540253,
        "ambientIntensity": 0.2,
        "backgroundColor": "white",
        "cameraFov": 40,
        "cameraType": "perspective",
        "clipDist": 10,
        "clipFar": 100,
        "clipNear": 0,
        "fogFar": 100,
        "fogNear": 50,
        "hoverTimeout": 500,
        "impostor": true,
        "lightColor": 14540253,
        "lightIntensity": 1,
        "panSpeed": 0.8,
        "quality": "medium",
        "rotateSpeed": 2,
        "sampleLevel": 0,
        "zoomSpeed": 1.2
       },
       "_view_module": "nglview-js-widgets",
       "_view_name": "NGLView",
       "background": "white",
       "count": 1,
       "frame": 0,
       "layout": "IPY_MODEL_43fc98d89e554849931afe0aba364e8f",
       "n_components": 0,
       "orientation": [],
       "picked": {}
      }
     },
     "2bbb00b63b094a8ea947d8de206dcbff": {
      "model_module": "jupyter-js-widgets",
      "model_module_version": "~2.1.4",
      "model_name": "ImageModel",
      "state": {
       "_model_module_version": "~2.1.4",
       "_view_module_version": "~2.1.4",
       "layout": "IPY_MODEL_3081e04806064f9b9c3c1f5f3488571d",
       "width": "900.0"
      }
     },
     "2e5074b431684a55b2dafa07f781c28c": {
      "model_module": "jupyter-js-widgets",
      "model_module_version": "~2.1.4",
      "model_name": "ImageModel",
      "state": {
       "_model_module_version": "~2.1.4",
       "_view_module_version": "~2.1.4",
       "layout": "IPY_MODEL_160698ef9d664b8580b9524b40c18121",
       "width": "900.0"
      }
     },
     "3081e04806064f9b9c3c1f5f3488571d": {
      "model_module": "jupyter-js-widgets",
      "model_module_version": "~2.1.4",
      "model_name": "LayoutModel",
      "state": {
       "_model_module_version": "~2.1.4",
       "_view_module_version": "~2.1.4"
      }
     },
     "320755d3d5644808982590fa99c2515e": {
      "model_module": "jupyter-js-widgets",
      "model_module_version": "*",
      "model_name": "DOMWidgetModel",
      "state": {
       "_camera_str": "orthographic",
       "_full_stage_parameters": {
        "ambientColor": 14540253,
        "ambientIntensity": 0.2,
        "backgroundColor": "white",
        "cameraFov": 40,
        "cameraType": "perspective",
        "clipDist": 10,
        "clipFar": 100,
        "clipNear": 0,
        "fogFar": 100,
        "fogNear": 50,
        "hoverTimeout": 500,
        "impostor": true,
        "lightColor": 14540253,
        "lightIntensity": 1,
        "panSpeed": 0.8,
        "quality": "medium",
        "rotateSpeed": 2,
        "sampleLevel": 0,
        "zoomSpeed": 1.2
       },
       "_image_data": "",
       "_model_name": "DOMWidgetModel",
       "_n_dragged_files": 0,
       "_original_stage_parameters": {
        "ambientColor": 14540253,
        "ambientIntensity": 0.2,
        "backgroundColor": "white",
        "cameraFov": 40,
        "cameraType": "perspective",
        "clipDist": 10,
        "clipFar": 100,
        "clipNear": 0,
        "fogFar": 100,
        "fogNear": 50,
        "hoverTimeout": 500,
        "impostor": true,
        "lightColor": 14540253,
        "lightIntensity": 1,
        "panSpeed": 0.8,
        "quality": "medium",
        "rotateSpeed": 2,
        "sampleLevel": 0,
        "zoomSpeed": 1.2
       },
       "_view_module": "nglview-js-widgets",
       "_view_name": "NGLView",
       "background": "white",
       "count": 1,
       "frame": 0,
       "layout": "IPY_MODEL_ecb4a85f6ecc444b8bc86c96571bf41c",
       "n_components": 1,
       "orientation": [],
       "picked": {}
      }
     },
     "37422d7d24134e2f94bf64e9692f88b8": {
      "model_module": "jupyter-js-widgets",
      "model_module_version": "~2.1.4",
      "model_name": "LayoutModel",
      "state": {
       "_model_module_version": "~2.1.4",
       "_view_module_version": "~2.1.4"
      }
     },
     "380050d3192e4f4b99e2b861c066b3d5": {
      "model_module": "jupyter-js-widgets",
      "model_module_version": "~2.1.4",
      "model_name": "LayoutModel",
      "state": {
       "_model_module_version": "~2.1.4",
       "_view_module_version": "~2.1.4"
      }
     },
     "38cff443a63e4d2490149de9fef89a87": {
      "model_module": "jupyter-js-widgets",
      "model_module_version": "~2.1.4",
      "model_name": "LayoutModel",
      "state": {
       "_model_module_version": "~2.1.4",
       "_view_module_version": "~2.1.4"
      }
     },
     "43fc98d89e554849931afe0aba364e8f": {
      "model_module": "jupyter-js-widgets",
      "model_module_version": "~2.1.4",
      "model_name": "LayoutModel",
      "state": {
       "_model_module_version": "~2.1.4",
       "_view_module_version": "~2.1.4"
      }
     },
     "46e56d4e292f448bb968ede11a26c456": {
      "model_module": "jupyter-js-widgets",
      "model_module_version": "~2.1.4",
      "model_name": "LayoutModel",
      "state": {
       "_model_module_version": "~2.1.4",
       "_view_module_version": "~2.1.4"
      }
     },
     "4a7bcaf30e78428aa3c284d2e36bf9f6": {
      "model_module": "jupyter-js-widgets",
      "model_module_version": "~2.1.4",
      "model_name": "LayoutModel",
      "state": {
       "_model_module_version": "~2.1.4",
       "_view_module_version": "~2.1.4"
      }
     },
     "4bbd94def27645f6bc3dad6713a20dd7": {
      "model_module": "jupyter-js-widgets",
      "model_module_version": "~2.1.4",
      "model_name": "LayoutModel",
      "state": {
       "_model_module_version": "~2.1.4",
       "_view_module_version": "~2.1.4"
      }
     },
     "57e4ac14c32549f1992d0856989312fd": {
      "model_module": "jupyter-js-widgets",
      "model_module_version": "~2.1.4",
      "model_name": "LayoutModel",
      "state": {
       "_model_module_version": "~2.1.4",
       "_view_module_version": "~2.1.4"
      }
     },
     "661fefa03644456db2d074b8e9ea1cd3": {
      "model_module": "jupyter-js-widgets",
      "model_module_version": "~2.1.4",
      "model_name": "ImageModel",
      "state": {
       "_model_module_version": "~2.1.4",
       "_view_module_version": "~2.1.4",
       "layout": "IPY_MODEL_c7a526513dd74325afb7142daefa62c9",
       "width": "900.0"
      }
     },
     "67fdde3622614c41b0a801283cf87a6a": {
      "model_module": "jupyter-js-widgets",
      "model_module_version": "~2.1.4",
      "model_name": "LayoutModel",
      "state": {
       "_model_module_version": "~2.1.4",
       "_view_module_version": "~2.1.4"
      }
     },
     "6c7fd4d46170412b8578d105b3309884": {
      "model_module": "jupyter-js-widgets",
      "model_module_version": "*",
      "model_name": "DOMWidgetModel",
      "state": {
       "_camera_str": "orthographic",
       "_full_stage_parameters": {
        "ambientColor": 14540253,
        "ambientIntensity": 0.2,
        "backgroundColor": "white",
        "cameraFov": 40,
        "cameraType": "perspective",
        "clipDist": 10,
        "clipFar": 100,
        "clipNear": 0,
        "fogFar": 100,
        "fogNear": 50,
        "hoverTimeout": 500,
        "impostor": true,
        "lightColor": 14540253,
        "lightIntensity": 1,
        "panSpeed": 0.8,
        "quality": "medium",
        "rotateSpeed": 2,
        "sampleLevel": 0,
        "zoomSpeed": 1.2
       },
       "_image_data": "",
       "_model_name": "DOMWidgetModel",
       "_n_dragged_files": 0,
       "_original_stage_parameters": {
        "ambientColor": 14540253,
        "ambientIntensity": 0.2,
        "backgroundColor": "white",
        "cameraFov": 40,
        "cameraType": "perspective",
        "clipDist": 10,
        "clipFar": 100,
        "clipNear": 0,
        "fogFar": 100,
        "fogNear": 50,
        "hoverTimeout": 500,
        "impostor": true,
        "lightColor": 14540253,
        "lightIntensity": 1,
        "panSpeed": 0.8,
        "quality": "medium",
        "rotateSpeed": 2,
        "sampleLevel": 0,
        "zoomSpeed": 1.2
       },
       "_view_module": "nglview-js-widgets",
       "_view_name": "NGLView",
       "background": "white",
       "count": 1,
       "frame": 0,
       "layout": "IPY_MODEL_78d7738daa4a4bb4935b2dfce97cc469",
       "n_components": 1,
       "orientation": [],
       "picked": {}
      }
     },
     "78d7738daa4a4bb4935b2dfce97cc469": {
      "model_module": "jupyter-js-widgets",
      "model_module_version": "~2.1.4",
      "model_name": "LayoutModel",
      "state": {
       "_model_module_version": "~2.1.4",
       "_view_module_version": "~2.1.4"
      }
     },
     "8a462f72cacd4e8c929e3f46002e7152": {
      "model_module": "jupyter-js-widgets",
      "model_module_version": "*",
      "model_name": "DOMWidgetModel",
      "state": {
       "_camera_str": "orthographic",
       "_full_stage_parameters": {
        "ambientColor": 14540253,
        "ambientIntensity": 0.2,
        "backgroundColor": "white",
        "cameraFov": 40,
        "cameraType": "perspective",
        "clipDist": 10,
        "clipFar": 100,
        "clipNear": 0,
        "fogFar": 100,
        "fogNear": 50,
        "hoverTimeout": 500,
        "impostor": true,
        "lightColor": 14540253,
        "lightIntensity": 1,
        "panSpeed": 0.8,
        "quality": "medium",
        "rotateSpeed": 2,
        "sampleLevel": 0,
        "zoomSpeed": 1.2
       },
       "_image_data": "",
       "_model_name": "DOMWidgetModel",
       "_n_dragged_files": 0,
       "_original_stage_parameters": {
        "ambientColor": 14540253,
        "ambientIntensity": 0.2,
        "backgroundColor": "white",
        "cameraFov": 40,
        "cameraType": "perspective",
        "clipDist": 10,
        "clipFar": 100,
        "clipNear": 0,
        "fogFar": 100,
        "fogNear": 50,
        "hoverTimeout": 500,
        "impostor": true,
        "lightColor": 14540253,
        "lightIntensity": 1,
        "panSpeed": 0.8,
        "quality": "medium",
        "rotateSpeed": 2,
        "sampleLevel": 0,
        "zoomSpeed": 1.2
       },
       "_view_module": "nglview-js-widgets",
       "_view_name": "NGLView",
       "background": "white",
       "count": 1,
       "frame": 0,
       "layout": "IPY_MODEL_a8fd46f8cb874e79b64b249161712bb7",
       "n_components": 0,
       "orientation": [],
       "picked": {}
      }
     },
     "8b1906a984c44d4e8b74b3b6a3d2b34e": {
      "model_module": "jupyter-js-widgets",
      "model_module_version": "~2.1.4",
      "model_name": "ImageModel",
      "state": {
       "_model_module_version": "~2.1.4",
       "_view_module_version": "~2.1.4",
       "layout": "IPY_MODEL_67fdde3622614c41b0a801283cf87a6a",
       "width": "900.0"
      }
     },
     "8db295aeaced41d29ece18f0db7071c5": {
      "model_module": "jupyter-js-widgets",
      "model_module_version": "*",
      "model_name": "DOMWidgetModel",
      "state": {
       "_camera_str": "orthographic",
       "_full_stage_parameters": {
        "ambientColor": 14540253,
        "ambientIntensity": 0.2,
        "backgroundColor": "white",
        "cameraFov": 40,
        "cameraType": "perspective",
        "clipDist": 10,
        "clipFar": 100,
        "clipNear": 0,
        "fogFar": 100,
        "fogNear": 50,
        "hoverTimeout": 500,
        "impostor": true,
        "lightColor": 14540253,
        "lightIntensity": 1,
        "panSpeed": 0.8,
        "quality": "medium",
        "rotateSpeed": 2,
        "sampleLevel": 0,
        "zoomSpeed": 1.2
       },
       "_image_data": "",
       "_model_name": "DOMWidgetModel",
       "_n_dragged_files": 0,
       "_original_stage_parameters": {
        "ambientColor": 14540253,
        "ambientIntensity": 0.2,
        "backgroundColor": "white",
        "cameraFov": 40,
        "cameraType": "perspective",
        "clipDist": 10,
        "clipFar": 100,
        "clipNear": 0,
        "fogFar": 100,
        "fogNear": 50,
        "hoverTimeout": 500,
        "impostor": true,
        "lightColor": 14540253,
        "lightIntensity": 1,
        "panSpeed": 0.8,
        "quality": "medium",
        "rotateSpeed": 2,
        "sampleLevel": 0,
        "zoomSpeed": 1.2
       },
       "_view_module": "nglview-js-widgets",
       "_view_name": "NGLView",
       "background": "white",
       "count": 1,
       "frame": 0,
       "layout": "IPY_MODEL_37422d7d24134e2f94bf64e9692f88b8",
       "n_components": 1,
       "orientation": [],
       "picked": {}
      }
     },
     "9b8af3f95c024944bed51d5f1b220f69": {
      "model_module": "jupyter-js-widgets",
      "model_module_version": "~2.1.4",
      "model_name": "ImageModel",
      "state": {
       "_model_module_version": "~2.1.4",
       "_view_module_version": "~2.1.4",
       "layout": "IPY_MODEL_46e56d4e292f448bb968ede11a26c456",
       "width": "900.0"
      }
     },
     "a0fce6906fb74c2581dab694ff6ab98a": {
      "model_module": "jupyter-js-widgets",
      "model_module_version": "*",
      "model_name": "DOMWidgetModel",
      "state": {
       "_camera_str": "orthographic",
       "_full_stage_parameters": {
        "ambientColor": 14540253,
        "ambientIntensity": 0.2,
        "backgroundColor": "white",
        "cameraFov": 40,
        "cameraType": "perspective",
        "clipDist": 10,
        "clipFar": 100,
        "clipNear": 0,
        "fogFar": 100,
        "fogNear": 50,
        "hoverTimeout": 500,
        "impostor": true,
        "lightColor": 14540253,
        "lightIntensity": 1,
        "panSpeed": 0.8,
        "quality": "medium",
        "rotateSpeed": 2,
        "sampleLevel": 0,
        "zoomSpeed": 1.2
       },
       "_image_data": "",
       "_model_name": "DOMWidgetModel",
       "_n_dragged_files": 0,
       "_original_stage_parameters": {
        "ambientColor": 14540253,
        "ambientIntensity": 0.2,
        "backgroundColor": "white",
        "cameraFov": 40,
        "cameraType": "perspective",
        "clipDist": 10,
        "clipFar": 100,
        "clipNear": 0,
        "fogFar": 100,
        "fogNear": 50,
        "hoverTimeout": 500,
        "impostor": true,
        "lightColor": 14540253,
        "lightIntensity": 1,
        "panSpeed": 0.8,
        "quality": "medium",
        "rotateSpeed": 2,
        "sampleLevel": 0,
        "zoomSpeed": 1.2
       },
       "_view_module": "nglview-js-widgets",
       "_view_name": "NGLView",
       "background": "white",
       "count": 1,
       "frame": 0,
       "layout": "IPY_MODEL_d3db66d05cfc4e2aadb4a9cc5819e9b2",
       "n_components": 0,
       "orientation": [],
       "picked": {}
      }
     },
     "a29e37f9ae6e4272a4fade64e2e8e93b": {
      "model_module": "jupyter-js-widgets",
      "model_module_version": "~2.1.4",
      "model_name": "LayoutModel",
      "state": {
       "_model_module_version": "~2.1.4",
       "_view_module_version": "~2.1.4"
      }
     },
     "a8fd46f8cb874e79b64b249161712bb7": {
      "model_module": "jupyter-js-widgets",
      "model_module_version": "~2.1.4",
      "model_name": "LayoutModel",
      "state": {
       "_model_module_version": "~2.1.4",
       "_view_module_version": "~2.1.4"
      }
     },
     "ac6f9846473a489f94c8890c316c4a70": {
      "model_module": "jupyter-js-widgets",
      "model_module_version": "~2.1.4",
      "model_name": "ImageModel",
      "state": {
       "_model_module_version": "~2.1.4",
       "_view_module_version": "~2.1.4",
       "layout": "IPY_MODEL_38cff443a63e4d2490149de9fef89a87",
       "width": "900.0"
      }
     },
     "bcd64dee983b4b9eb6560e6f0c9b0946": {
      "model_module": "jupyter-js-widgets",
      "model_module_version": "~2.1.4",
      "model_name": "ImageModel",
      "state": {
       "_model_module_version": "~2.1.4",
       "_view_module_version": "~2.1.4",
       "layout": "IPY_MODEL_146c18a2608e4971a1c8aab11498e012",
       "width": "900.0"
      }
     },
     "bf660ec7d7284db483103370ac2cad2a": {
      "model_module": "jupyter-js-widgets",
      "model_module_version": "*",
      "model_name": "DOMWidgetModel",
      "state": {
       "_camera_str": "orthographic",
       "_full_stage_parameters": {
        "ambientColor": 14540253,
        "ambientIntensity": 0.2,
        "backgroundColor": "white",
        "cameraFov": 40,
        "cameraType": "perspective",
        "clipDist": 10,
        "clipFar": 100,
        "clipNear": 0,
        "fogFar": 100,
        "fogNear": 50,
        "hoverTimeout": 500,
        "impostor": true,
        "lightColor": 14540253,
        "lightIntensity": 1,
        "panSpeed": 0.8,
        "quality": "medium",
        "rotateSpeed": 2,
        "sampleLevel": 0,
        "zoomSpeed": 1.2
       },
       "_image_data": "",
       "_model_name": "DOMWidgetModel",
       "_n_dragged_files": 0,
       "_original_stage_parameters": {
        "ambientColor": 14540253,
        "ambientIntensity": 0.2,
        "backgroundColor": "white",
        "cameraFov": 40,
        "cameraType": "perspective",
        "clipDist": 10,
        "clipFar": 100,
        "clipNear": 0,
        "fogFar": 100,
        "fogNear": 50,
        "hoverTimeout": 500,
        "impostor": true,
        "lightColor": 14540253,
        "lightIntensity": 1,
        "panSpeed": 0.8,
        "quality": "medium",
        "rotateSpeed": 2,
        "sampleLevel": 0,
        "zoomSpeed": 1.2
       },
       "_view_module": "nglview-js-widgets",
       "_view_name": "NGLView",
       "background": "white",
       "count": 1,
       "frame": 0,
       "layout": "IPY_MODEL_06c06380f7cb43068ffe173cc67b054e",
       "n_components": 0,
       "orientation": [],
       "picked": {}
      }
     },
     "c331edb8657d4ad294b17b74b95a6cba": {
      "model_module": "jupyter-js-widgets",
      "model_module_version": "~2.1.4",
      "model_name": "ImageModel",
      "state": {
       "_model_module_version": "~2.1.4",
       "_view_module_version": "~2.1.4",
       "layout": "IPY_MODEL_a29e37f9ae6e4272a4fade64e2e8e93b",
       "width": "900.0"
      }
     },
     "c43f710328d5448085b6c2ec0cde2df5": {
      "model_module": "jupyter-js-widgets",
      "model_module_version": "*",
      "model_name": "DOMWidgetModel",
      "state": {
       "_camera_str": "orthographic",
       "_full_stage_parameters": {
        "ambientColor": 14540253,
        "ambientIntensity": 0.2,
        "backgroundColor": "white",
        "cameraFov": 40,
        "cameraType": "perspective",
        "clipDist": 10,
        "clipFar": 100,
        "clipNear": 0,
        "fogFar": 100,
        "fogNear": 50,
        "hoverTimeout": 500,
        "impostor": true,
        "lightColor": 14540253,
        "lightIntensity": 1,
        "panSpeed": 0.8,
        "quality": "medium",
        "rotateSpeed": 2,
        "sampleLevel": 0,
        "zoomSpeed": 1.2
       },
       "_image_data": "",
       "_model_name": "DOMWidgetModel",
       "_n_dragged_files": 0,
       "_original_stage_parameters": {
        "ambientColor": 14540253,
        "ambientIntensity": 0.2,
        "backgroundColor": "white",
        "cameraFov": 40,
        "cameraType": "perspective",
        "clipDist": 10,
        "clipFar": 100,
        "clipNear": 0,
        "fogFar": 100,
        "fogNear": 50,
        "hoverTimeout": 500,
        "impostor": true,
        "lightColor": 14540253,
        "lightIntensity": 1,
        "panSpeed": 0.8,
        "quality": "medium",
        "rotateSpeed": 2,
        "sampleLevel": 0,
        "zoomSpeed": 1.2
       },
       "_view_module": "nglview-js-widgets",
       "_view_name": "NGLView",
       "background": "white",
       "count": 1,
       "frame": 0,
       "layout": "IPY_MODEL_57e4ac14c32549f1992d0856989312fd",
       "n_components": 1,
       "orientation": [],
       "picked": {}
      }
     },
     "c7364480a1644d58a2bebc38a1e0fb4c": {
      "model_module": "jupyter-js-widgets",
      "model_module_version": "~2.1.4",
      "model_name": "LayoutModel",
      "state": {
       "_model_module_version": "~2.1.4",
       "_view_module_version": "~2.1.4"
      }
     },
     "c7a526513dd74325afb7142daefa62c9": {
      "model_module": "jupyter-js-widgets",
      "model_module_version": "~2.1.4",
      "model_name": "LayoutModel",
      "state": {
       "_model_module_version": "~2.1.4",
       "_view_module_version": "~2.1.4"
      }
     },
     "d3db66d05cfc4e2aadb4a9cc5819e9b2": {
      "model_module": "jupyter-js-widgets",
      "model_module_version": "~2.1.4",
      "model_name": "LayoutModel",
      "state": {
       "_model_module_version": "~2.1.4",
       "_view_module_version": "~2.1.4"
      }
     },
     "e06ec404ede34cc7b7b2e32115e5bd21": {
      "model_module": "jupyter-js-widgets",
      "model_module_version": "*",
      "model_name": "DOMWidgetModel",
      "state": {
       "_camera_str": "orthographic",
       "_full_stage_parameters": {
        "ambientColor": 14540253,
        "ambientIntensity": 0.2,
        "backgroundColor": "white",
        "cameraFov": 40,
        "cameraType": "perspective",
        "clipDist": 10,
        "clipFar": 100,
        "clipNear": 0,
        "fogFar": 100,
        "fogNear": 50,
        "hoverTimeout": 500,
        "impostor": true,
        "lightColor": 14540253,
        "lightIntensity": 1,
        "panSpeed": 0.8,
        "quality": "medium",
        "rotateSpeed": 2,
        "sampleLevel": 0,
        "zoomSpeed": 1.2
       },
       "_image_data": "",
       "_model_name": "DOMWidgetModel",
       "_n_dragged_files": 0,
       "_original_stage_parameters": {
        "ambientColor": 14540253,
        "ambientIntensity": 0.2,
        "backgroundColor": "white",
        "cameraFov": 40,
        "cameraType": "perspective",
        "clipDist": 10,
        "clipFar": 100,
        "clipNear": 0,
        "fogFar": 100,
        "fogNear": 50,
        "hoverTimeout": 500,
        "impostor": true,
        "lightColor": 14540253,
        "lightIntensity": 1,
        "panSpeed": 0.8,
        "quality": "medium",
        "rotateSpeed": 2,
        "sampleLevel": 0,
        "zoomSpeed": 1.2
       },
       "_view_module": "nglview-js-widgets",
       "_view_name": "NGLView",
       "background": "white",
       "count": 1,
       "frame": 0,
       "layout": "IPY_MODEL_063f9430d8424354b09818d5c5f61c75",
       "n_components": 0,
       "orientation": [],
       "picked": {}
      }
     },
     "e09d49d6f5ef43e985725cc4dad2d05c": {
      "model_module": "jupyter-js-widgets",
      "model_module_version": "~2.1.4",
      "model_name": "LayoutModel",
      "state": {
       "_model_module_version": "~2.1.4",
       "_view_module_version": "~2.1.4"
      }
     },
     "e4874c9fcce5457ebe368f716486e496": {
      "model_module": "jupyter-js-widgets",
      "model_module_version": "~2.1.4",
      "model_name": "LayoutModel",
      "state": {
       "_model_module_version": "~2.1.4",
       "_view_module_version": "~2.1.4"
      }
     },
     "ec31753dc72041f4bca5736b58371473": {
      "model_module": "jupyter-js-widgets",
      "model_module_version": "*",
      "model_name": "DOMWidgetModel",
      "state": {
       "_camera_str": "orthographic",
       "_full_stage_parameters": {
        "ambientColor": 14540253,
        "ambientIntensity": 0.2,
        "backgroundColor": "white",
        "cameraFov": 40,
        "cameraType": "perspective",
        "clipDist": 10,
        "clipFar": 100,
        "clipNear": 0,
        "fogFar": 100,
        "fogNear": 50,
        "hoverTimeout": 500,
        "impostor": true,
        "lightColor": 14540253,
        "lightIntensity": 1,
        "panSpeed": 0.8,
        "quality": "medium",
        "rotateSpeed": 2,
        "sampleLevel": 0,
        "zoomSpeed": 1.2
       },
       "_image_data": "",
       "_model_name": "DOMWidgetModel",
       "_n_dragged_files": 0,
       "_original_stage_parameters": {
        "ambientColor": 14540253,
        "ambientIntensity": 0.2,
        "backgroundColor": "white",
        "cameraFov": 40,
        "cameraType": "perspective",
        "clipDist": 10,
        "clipFar": 100,
        "clipNear": 0,
        "fogFar": 100,
        "fogNear": 50,
        "hoverTimeout": 500,
        "impostor": true,
        "lightColor": 14540253,
        "lightIntensity": 1,
        "panSpeed": 0.8,
        "quality": "medium",
        "rotateSpeed": 2,
        "sampleLevel": 0,
        "zoomSpeed": 1.2
       },
       "_view_module": "nglview-js-widgets",
       "_view_name": "NGLView",
       "background": "white",
       "count": 1,
       "frame": 0,
       "layout": "IPY_MODEL_4bbd94def27645f6bc3dad6713a20dd7",
       "n_components": 0,
       "orientation": [],
       "picked": {}
      }
     },
     "ecb4a85f6ecc444b8bc86c96571bf41c": {
      "model_module": "jupyter-js-widgets",
      "model_module_version": "~2.1.4",
      "model_name": "LayoutModel",
      "state": {
       "_model_module_version": "~2.1.4",
       "_view_module_version": "~2.1.4"
      }
     },
     "f6afd199ec3c456398ca5cd35da333e1": {
      "model_module": "jupyter-js-widgets",
      "model_module_version": "~2.1.4",
      "model_name": "LayoutModel",
      "state": {
       "_model_module_version": "~2.1.4",
       "_view_module_version": "~2.1.4"
      }
     }
    },
    "version_major": 1,
    "version_minor": 0
   }
  }
 },
 "nbformat": 4,
 "nbformat_minor": 2
}
